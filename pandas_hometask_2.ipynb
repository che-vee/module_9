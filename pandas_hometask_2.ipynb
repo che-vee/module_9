{
  "nbformat": 4,
  "nbformat_minor": 0,
  "metadata": {
    "colab": {
      "name": "V. C. Lang'at - Pandas hometask 2.ipynb",
      "provenance": [],
      "collapsed_sections": []
    },
    "kernelspec": {
      "name": "python3",
      "display_name": "Python 3"
    },
    "language_info": {
      "name": "python"
    }
  },
  "cells": [
    {
      "cell_type": "code",
      "execution_count": 2,
      "metadata": {
        "id": "Jybdli8w7oGa"
      },
      "outputs": [],
      "source": [
        "import pandas as pd"
      ]
    },
    {
      "cell_type": "markdown",
      "source": [
        "1. Read `accidents_2017.tsv` using `pd.read_csv`. Note, that the encodding of this file is 'utf-8' and separator is ';'"
      ],
      "metadata": {
        "id": "bOCI-irXBNr9"
      }
    },
    {
      "cell_type": "code",
      "source": [
        "df = pd.read_csv(\"accidents_2017.tsv\", encoding=\"utf-16\", sep=\";\")\n",
        "df"
      ],
      "metadata": {
        "id": "M-lBkDyI70zi",
        "colab": {
          "base_uri": "https://localhost:8080/",
          "height": 641
        },
        "outputId": "532fe700-28f0-4b77-81eb-e430866a4990"
      },
      "execution_count": 4,
      "outputs": [
        {
          "output_type": "execute_result",
          "data": {
            "text/plain": [
              "                    Id District Name           Neighborhood Name  \\\n",
              "0      2017S008429           Unknown                     Unknown   \n",
              "1      2017S007316           Unknown                     Unknown   \n",
              "2      2017S010210           Unknown                     Unknown   \n",
              "3      2017S006364           Unknown                     Unknown   \n",
              "4      2017S004615        Sant Martí  el Camp de l'Arpa del Clot   \n",
              "...                ...           ...                         ...   \n",
              "10334  2017S003667       Sant Andreu               el Bon Pastor   \n",
              "10335  2017S001896       Sant Andreu               el Bon Pastor   \n",
              "10336  2017S010718       Sant Andreu               el Bon Pastor   \n",
              "10337  2017S006145       Sant Andreu               el Bon Pastor   \n",
              "10338  2017S000178       Sant Andreu               el Bon Pastor   \n",
              "\n",
              "                                                  Street    Weekday  \\\n",
              "0      Número 27                                     ...     Friday   \n",
              "1      Número 3 Zona Franca / Número 50 Zona Franca  ...     Friday   \n",
              "2      Litoral (Besòs)                               ...     Friday   \n",
              "3      Número 3 Zona Franca                          ...     Friday   \n",
              "4      Las Navas de Tolosa                           ...   Thursday   \n",
              "...                                                  ...        ...   \n",
              "10334  Litoral (Llobregat)                           ...    Tuesday   \n",
              "10335  PL MONTERREY                                  ...  Wednesday   \n",
              "10336  Litoral (Llobregat)                           ...   Thursday   \n",
              "10337  Litoral (Besòs)                               ...     Friday   \n",
              "10338  CIUTAT D'ASUNCIÓN                             ...     Sunday   \n",
              "\n",
              "           Month  Day  Hour Part of the day  Mild injuries  Serious injuries  \\\n",
              "0        October   13     8         Morning              2                 0   \n",
              "1      September    1    13         Morning              2                 0   \n",
              "2       December    8    21       Afternoon              5                 0   \n",
              "3           July   21     2           Night              1                 0   \n",
              "4            May   25    14       Afternoon              1                 0   \n",
              "...          ...  ...   ...             ...            ...               ...   \n",
              "10334      April   25     8         Morning              1                 0   \n",
              "10335      March    8    12         Morning              1                 0   \n",
              "10336   December   28     8         Morning              1                 0   \n",
              "10337       July   14    14       Afternoon              1                 0   \n",
              "10338    January    8    20       Afternoon              0                 0   \n",
              "\n",
              "       Victims  Vehicles involved  Longitude   Latitude  \n",
              "0            2                  2   2.125624  41.340045  \n",
              "1            2                  2   2.120452  41.339426  \n",
              "2            5                  2   2.167356  41.360886  \n",
              "3            1                  2   2.124529  41.337668  \n",
              "4            1                  3   2.185272  41.416365  \n",
              "...        ...                ...        ...        ...  \n",
              "10334        1                  3   2.201800  41.392004  \n",
              "10335        1                  2   2.206013  41.443445  \n",
              "10336        1                  2   2.205607  41.443894  \n",
              "10337        1                  2   2.205118  41.444824  \n",
              "10338        0                  1   2.200956  41.437125  \n",
              "\n",
              "[10339 rows x 15 columns]"
            ],
            "text/html": [
              "\n",
              "  <div id=\"df-e39206fe-b538-433a-b69d-aa523f74beb1\">\n",
              "    <div class=\"colab-df-container\">\n",
              "      <div>\n",
              "<style scoped>\n",
              "    .dataframe tbody tr th:only-of-type {\n",
              "        vertical-align: middle;\n",
              "    }\n",
              "\n",
              "    .dataframe tbody tr th {\n",
              "        vertical-align: top;\n",
              "    }\n",
              "\n",
              "    .dataframe thead th {\n",
              "        text-align: right;\n",
              "    }\n",
              "</style>\n",
              "<table border=\"1\" class=\"dataframe\">\n",
              "  <thead>\n",
              "    <tr style=\"text-align: right;\">\n",
              "      <th></th>\n",
              "      <th>Id</th>\n",
              "      <th>District Name</th>\n",
              "      <th>Neighborhood Name</th>\n",
              "      <th>Street</th>\n",
              "      <th>Weekday</th>\n",
              "      <th>Month</th>\n",
              "      <th>Day</th>\n",
              "      <th>Hour</th>\n",
              "      <th>Part of the day</th>\n",
              "      <th>Mild injuries</th>\n",
              "      <th>Serious injuries</th>\n",
              "      <th>Victims</th>\n",
              "      <th>Vehicles involved</th>\n",
              "      <th>Longitude</th>\n",
              "      <th>Latitude</th>\n",
              "    </tr>\n",
              "  </thead>\n",
              "  <tbody>\n",
              "    <tr>\n",
              "      <th>0</th>\n",
              "      <td>2017S008429</td>\n",
              "      <td>Unknown</td>\n",
              "      <td>Unknown</td>\n",
              "      <td>Número 27                                     ...</td>\n",
              "      <td>Friday</td>\n",
              "      <td>October</td>\n",
              "      <td>13</td>\n",
              "      <td>8</td>\n",
              "      <td>Morning</td>\n",
              "      <td>2</td>\n",
              "      <td>0</td>\n",
              "      <td>2</td>\n",
              "      <td>2</td>\n",
              "      <td>2.125624</td>\n",
              "      <td>41.340045</td>\n",
              "    </tr>\n",
              "    <tr>\n",
              "      <th>1</th>\n",
              "      <td>2017S007316</td>\n",
              "      <td>Unknown</td>\n",
              "      <td>Unknown</td>\n",
              "      <td>Número 3 Zona Franca / Número 50 Zona Franca  ...</td>\n",
              "      <td>Friday</td>\n",
              "      <td>September</td>\n",
              "      <td>1</td>\n",
              "      <td>13</td>\n",
              "      <td>Morning</td>\n",
              "      <td>2</td>\n",
              "      <td>0</td>\n",
              "      <td>2</td>\n",
              "      <td>2</td>\n",
              "      <td>2.120452</td>\n",
              "      <td>41.339426</td>\n",
              "    </tr>\n",
              "    <tr>\n",
              "      <th>2</th>\n",
              "      <td>2017S010210</td>\n",
              "      <td>Unknown</td>\n",
              "      <td>Unknown</td>\n",
              "      <td>Litoral (Besòs)                               ...</td>\n",
              "      <td>Friday</td>\n",
              "      <td>December</td>\n",
              "      <td>8</td>\n",
              "      <td>21</td>\n",
              "      <td>Afternoon</td>\n",
              "      <td>5</td>\n",
              "      <td>0</td>\n",
              "      <td>5</td>\n",
              "      <td>2</td>\n",
              "      <td>2.167356</td>\n",
              "      <td>41.360886</td>\n",
              "    </tr>\n",
              "    <tr>\n",
              "      <th>3</th>\n",
              "      <td>2017S006364</td>\n",
              "      <td>Unknown</td>\n",
              "      <td>Unknown</td>\n",
              "      <td>Número 3 Zona Franca                          ...</td>\n",
              "      <td>Friday</td>\n",
              "      <td>July</td>\n",
              "      <td>21</td>\n",
              "      <td>2</td>\n",
              "      <td>Night</td>\n",
              "      <td>1</td>\n",
              "      <td>0</td>\n",
              "      <td>1</td>\n",
              "      <td>2</td>\n",
              "      <td>2.124529</td>\n",
              "      <td>41.337668</td>\n",
              "    </tr>\n",
              "    <tr>\n",
              "      <th>4</th>\n",
              "      <td>2017S004615</td>\n",
              "      <td>Sant Martí</td>\n",
              "      <td>el Camp de l'Arpa del Clot</td>\n",
              "      <td>Las Navas de Tolosa                           ...</td>\n",
              "      <td>Thursday</td>\n",
              "      <td>May</td>\n",
              "      <td>25</td>\n",
              "      <td>14</td>\n",
              "      <td>Afternoon</td>\n",
              "      <td>1</td>\n",
              "      <td>0</td>\n",
              "      <td>1</td>\n",
              "      <td>3</td>\n",
              "      <td>2.185272</td>\n",
              "      <td>41.416365</td>\n",
              "    </tr>\n",
              "    <tr>\n",
              "      <th>...</th>\n",
              "      <td>...</td>\n",
              "      <td>...</td>\n",
              "      <td>...</td>\n",
              "      <td>...</td>\n",
              "      <td>...</td>\n",
              "      <td>...</td>\n",
              "      <td>...</td>\n",
              "      <td>...</td>\n",
              "      <td>...</td>\n",
              "      <td>...</td>\n",
              "      <td>...</td>\n",
              "      <td>...</td>\n",
              "      <td>...</td>\n",
              "      <td>...</td>\n",
              "      <td>...</td>\n",
              "    </tr>\n",
              "    <tr>\n",
              "      <th>10334</th>\n",
              "      <td>2017S003667</td>\n",
              "      <td>Sant Andreu</td>\n",
              "      <td>el Bon Pastor</td>\n",
              "      <td>Litoral (Llobregat)                           ...</td>\n",
              "      <td>Tuesday</td>\n",
              "      <td>April</td>\n",
              "      <td>25</td>\n",
              "      <td>8</td>\n",
              "      <td>Morning</td>\n",
              "      <td>1</td>\n",
              "      <td>0</td>\n",
              "      <td>1</td>\n",
              "      <td>3</td>\n",
              "      <td>2.201800</td>\n",
              "      <td>41.392004</td>\n",
              "    </tr>\n",
              "    <tr>\n",
              "      <th>10335</th>\n",
              "      <td>2017S001896</td>\n",
              "      <td>Sant Andreu</td>\n",
              "      <td>el Bon Pastor</td>\n",
              "      <td>PL MONTERREY                                  ...</td>\n",
              "      <td>Wednesday</td>\n",
              "      <td>March</td>\n",
              "      <td>8</td>\n",
              "      <td>12</td>\n",
              "      <td>Morning</td>\n",
              "      <td>1</td>\n",
              "      <td>0</td>\n",
              "      <td>1</td>\n",
              "      <td>2</td>\n",
              "      <td>2.206013</td>\n",
              "      <td>41.443445</td>\n",
              "    </tr>\n",
              "    <tr>\n",
              "      <th>10336</th>\n",
              "      <td>2017S010718</td>\n",
              "      <td>Sant Andreu</td>\n",
              "      <td>el Bon Pastor</td>\n",
              "      <td>Litoral (Llobregat)                           ...</td>\n",
              "      <td>Thursday</td>\n",
              "      <td>December</td>\n",
              "      <td>28</td>\n",
              "      <td>8</td>\n",
              "      <td>Morning</td>\n",
              "      <td>1</td>\n",
              "      <td>0</td>\n",
              "      <td>1</td>\n",
              "      <td>2</td>\n",
              "      <td>2.205607</td>\n",
              "      <td>41.443894</td>\n",
              "    </tr>\n",
              "    <tr>\n",
              "      <th>10337</th>\n",
              "      <td>2017S006145</td>\n",
              "      <td>Sant Andreu</td>\n",
              "      <td>el Bon Pastor</td>\n",
              "      <td>Litoral (Besòs)                               ...</td>\n",
              "      <td>Friday</td>\n",
              "      <td>July</td>\n",
              "      <td>14</td>\n",
              "      <td>14</td>\n",
              "      <td>Afternoon</td>\n",
              "      <td>1</td>\n",
              "      <td>0</td>\n",
              "      <td>1</td>\n",
              "      <td>2</td>\n",
              "      <td>2.205118</td>\n",
              "      <td>41.444824</td>\n",
              "    </tr>\n",
              "    <tr>\n",
              "      <th>10338</th>\n",
              "      <td>2017S000178</td>\n",
              "      <td>Sant Andreu</td>\n",
              "      <td>el Bon Pastor</td>\n",
              "      <td>CIUTAT D'ASUNCIÓN                             ...</td>\n",
              "      <td>Sunday</td>\n",
              "      <td>January</td>\n",
              "      <td>8</td>\n",
              "      <td>20</td>\n",
              "      <td>Afternoon</td>\n",
              "      <td>0</td>\n",
              "      <td>0</td>\n",
              "      <td>0</td>\n",
              "      <td>1</td>\n",
              "      <td>2.200956</td>\n",
              "      <td>41.437125</td>\n",
              "    </tr>\n",
              "  </tbody>\n",
              "</table>\n",
              "<p>10339 rows × 15 columns</p>\n",
              "</div>\n",
              "      <button class=\"colab-df-convert\" onclick=\"convertToInteractive('df-e39206fe-b538-433a-b69d-aa523f74beb1')\"\n",
              "              title=\"Convert this dataframe to an interactive table.\"\n",
              "              style=\"display:none;\">\n",
              "        \n",
              "  <svg xmlns=\"http://www.w3.org/2000/svg\" height=\"24px\"viewBox=\"0 0 24 24\"\n",
              "       width=\"24px\">\n",
              "    <path d=\"M0 0h24v24H0V0z\" fill=\"none\"/>\n",
              "    <path d=\"M18.56 5.44l.94 2.06.94-2.06 2.06-.94-2.06-.94-.94-2.06-.94 2.06-2.06.94zm-11 1L8.5 8.5l.94-2.06 2.06-.94-2.06-.94L8.5 2.5l-.94 2.06-2.06.94zm10 10l.94 2.06.94-2.06 2.06-.94-2.06-.94-.94-2.06-.94 2.06-2.06.94z\"/><path d=\"M17.41 7.96l-1.37-1.37c-.4-.4-.92-.59-1.43-.59-.52 0-1.04.2-1.43.59L10.3 9.45l-7.72 7.72c-.78.78-.78 2.05 0 2.83L4 21.41c.39.39.9.59 1.41.59.51 0 1.02-.2 1.41-.59l7.78-7.78 2.81-2.81c.8-.78.8-2.07 0-2.86zM5.41 20L4 18.59l7.72-7.72 1.47 1.35L5.41 20z\"/>\n",
              "  </svg>\n",
              "      </button>\n",
              "      \n",
              "  <style>\n",
              "    .colab-df-container {\n",
              "      display:flex;\n",
              "      flex-wrap:wrap;\n",
              "      gap: 12px;\n",
              "    }\n",
              "\n",
              "    .colab-df-convert {\n",
              "      background-color: #E8F0FE;\n",
              "      border: none;\n",
              "      border-radius: 50%;\n",
              "      cursor: pointer;\n",
              "      display: none;\n",
              "      fill: #1967D2;\n",
              "      height: 32px;\n",
              "      padding: 0 0 0 0;\n",
              "      width: 32px;\n",
              "    }\n",
              "\n",
              "    .colab-df-convert:hover {\n",
              "      background-color: #E2EBFA;\n",
              "      box-shadow: 0px 1px 2px rgba(60, 64, 67, 0.3), 0px 1px 3px 1px rgba(60, 64, 67, 0.15);\n",
              "      fill: #174EA6;\n",
              "    }\n",
              "\n",
              "    [theme=dark] .colab-df-convert {\n",
              "      background-color: #3B4455;\n",
              "      fill: #D2E3FC;\n",
              "    }\n",
              "\n",
              "    [theme=dark] .colab-df-convert:hover {\n",
              "      background-color: #434B5C;\n",
              "      box-shadow: 0px 1px 3px 1px rgba(0, 0, 0, 0.15);\n",
              "      filter: drop-shadow(0px 1px 2px rgba(0, 0, 0, 0.3));\n",
              "      fill: #FFFFFF;\n",
              "    }\n",
              "  </style>\n",
              "\n",
              "      <script>\n",
              "        const buttonEl =\n",
              "          document.querySelector('#df-e39206fe-b538-433a-b69d-aa523f74beb1 button.colab-df-convert');\n",
              "        buttonEl.style.display =\n",
              "          google.colab.kernel.accessAllowed ? 'block' : 'none';\n",
              "\n",
              "        async function convertToInteractive(key) {\n",
              "          const element = document.querySelector('#df-e39206fe-b538-433a-b69d-aa523f74beb1');\n",
              "          const dataTable =\n",
              "            await google.colab.kernel.invokeFunction('convertToInteractive',\n",
              "                                                     [key], {});\n",
              "          if (!dataTable) return;\n",
              "\n",
              "          const docLinkHtml = 'Like what you see? Visit the ' +\n",
              "            '<a target=\"_blank\" href=https://colab.research.google.com/notebooks/data_table.ipynb>data table notebook</a>'\n",
              "            + ' to learn more about interactive tables.';\n",
              "          element.innerHTML = '';\n",
              "          dataTable['output_type'] = 'display_data';\n",
              "          await google.colab.output.renderOutput(dataTable, element);\n",
              "          const docLink = document.createElement('div');\n",
              "          docLink.innerHTML = docLinkHtml;\n",
              "          element.appendChild(docLink);\n",
              "        }\n",
              "      </script>\n",
              "    </div>\n",
              "  </div>\n",
              "  "
            ]
          },
          "metadata": {},
          "execution_count": 4
        }
      ]
    },
    {
      "cell_type": "markdown",
      "source": [
        "2. How many accidents are listed in this dataset?"
      ],
      "metadata": {
        "id": "DypyuCTwBbq8"
      }
    },
    {
      "cell_type": "code",
      "source": [
        "len(df)"
      ],
      "metadata": {
        "id": "LYEiAnmBBhQr",
        "colab": {
          "base_uri": "https://localhost:8080/"
        },
        "outputId": "f748c8f6-857a-4c10-b4b1-3dedfd040182"
      },
      "execution_count": 5,
      "outputs": [
        {
          "output_type": "execute_result",
          "data": {
            "text/plain": [
              "10339"
            ]
          },
          "metadata": {},
          "execution_count": 5
        }
      ]
    },
    {
      "cell_type": "markdown",
      "source": [
        "3. How many victims, mild injuries and serious injuries are listed in this dataset? Print all three numbers"
      ],
      "metadata": {
        "id": "aCOL3EicBiO_"
      }
    },
    {
      "cell_type": "code",
      "source": [
        "print(\"Victims:\", df[\"Victims\"].sum())\n",
        "print(\"Mild injuries:\", df[\"Mild injuries\"].sum())\n",
        "print(\"Serious injuries:\", df[\"Serious injuries\"].sum())"
      ],
      "metadata": {
        "id": "JfvbW6d09Mym",
        "colab": {
          "base_uri": "https://localhost:8080/"
        },
        "outputId": "24134bc0-ecdc-4b93-ac82-e6f4cb6b3cdf"
      },
      "execution_count": 6,
      "outputs": [
        {
          "output_type": "stream",
          "name": "stdout",
          "text": [
            "Victims: 12186\n",
            "Mild injuries: 11933\n",
            "Serious injuries: 241\n"
          ]
        }
      ]
    },
    {
      "cell_type": "markdown",
      "source": [
        "4. Do `Serious injuries` and `Mild injuries` add up to match the number of `Victims` in each accident?"
      ],
      "metadata": {
        "id": "Gwo_qhJtBrEG"
      }
    },
    {
      "cell_type": "code",
      "source": [
        "print(\"Victims:\", df[\"Victims\"].sum())\n",
        "print(\"Mild injuries:\", df[\"Mild injuries\"].sum() + df[\"Serious injuries\"].sum())\n",
        "\n",
        "print(\"\\nNo they do not add up.\")"
      ],
      "metadata": {
        "id": "JAz0zVMR9vme",
        "colab": {
          "base_uri": "https://localhost:8080/"
        },
        "outputId": "dec1aeda-ef45-40ef-e25c-b87f18ef7c8e"
      },
      "execution_count": 7,
      "outputs": [
        {
          "output_type": "stream",
          "name": "stdout",
          "text": [
            "Victims: 12186\n",
            "Mild injuries: 12174\n",
            "\n",
            "No they do not add up.\n"
          ]
        }
      ]
    },
    {
      "cell_type": "markdown",
      "source": [
        "5. Print districts in the descending order by number of occurence in the dataset"
      ],
      "metadata": {
        "id": "qvcNibBXCqma"
      }
    },
    {
      "cell_type": "code",
      "source": [
        "df[\"District Name\"].value_counts()"
      ],
      "metadata": {
        "id": "7bR3akLA_COY",
        "colab": {
          "base_uri": "https://localhost:8080/"
        },
        "outputId": "ef2596be-b670-40e6-afe0-c6292d8376ea"
      },
      "execution_count": 8,
      "outputs": [
        {
          "output_type": "execute_result",
          "data": {
            "text/plain": [
              "Eixample               3029\n",
              "Sant Martí             1336\n",
              "Sants-Montjuïc         1104\n",
              "Sarrià-Sant Gervasi    1104\n",
              "Horta-Guinardó          743\n",
              "Les Corts               726\n",
              "Ciutat Vella            600\n",
              "Sant Andreu             597\n",
              "Nou Barris              542\n",
              "Gràcia                  531\n",
              "Unknown                  27\n",
              "Name: District Name, dtype: int64"
            ]
          },
          "metadata": {},
          "execution_count": 8
        }
      ]
    },
    {
      "cell_type": "markdown",
      "source": [
        "6. Print districts in the descending order by number of victims. How many victims were there in each of the districts?"
      ],
      "metadata": {
        "id": "QP7ovUnaC74V"
      }
    },
    {
      "cell_type": "code",
      "source": [
        "df.groupby(\"District Name\")[\"Victims\"].sum().sort_values(ascending=False)"
      ],
      "metadata": {
        "id": "o-xLIuhG_cf9",
        "colab": {
          "base_uri": "https://localhost:8080/"
        },
        "outputId": "c5f089a2-6a5a-4c07-eb50-11e851e439bc"
      },
      "execution_count": 14,
      "outputs": [
        {
          "output_type": "execute_result",
          "data": {
            "text/plain": [
              "District Name\n",
              "Eixample               3562\n",
              "Sant Martí             1645\n",
              "Sants-Montjuïc         1329\n",
              "Sarrià-Sant Gervasi    1290\n",
              "Les Corts               894\n",
              "Horta-Guinardó          839\n",
              "Sant Andreu             704\n",
              "Nou Barris              661\n",
              "Ciutat Vella            634\n",
              "Gràcia                  588\n",
              "Unknown                  40\n",
              "Name: Victims, dtype: int64"
            ]
          },
          "metadata": {},
          "execution_count": 14
        }
      ]
    },
    {
      "cell_type": "markdown",
      "source": [
        "7. What is the most dangerous day in the week? What is the second most dangerous day?"
      ],
      "metadata": {
        "id": "wB0zz0eyD8mf"
      }
    },
    {
      "cell_type": "code",
      "source": [
        "print(df.groupby(\"Weekday\")[\"Weekday\"].count().sort_values(ascending=False))\n",
        "\n",
        "print(\"\\nMost dangerous is Friday and second most dangerous is Tuesday.\")"
      ],
      "metadata": {
        "id": "117BUdjdD0D1",
        "colab": {
          "base_uri": "https://localhost:8080/"
        },
        "outputId": "9dd28f96-3737-4031-eead-443916387f41"
      },
      "execution_count": 10,
      "outputs": [
        {
          "output_type": "stream",
          "name": "stdout",
          "text": [
            "Weekday\n",
            "Friday       1761\n",
            "Tuesday      1691\n",
            "Thursday     1677\n",
            "Wednesday    1650\n",
            "Monday       1510\n",
            "Saturday     1155\n",
            "Sunday        895\n",
            "Name: Weekday, dtype: int64\n",
            "\n",
            "Most dangerous is Friday and second most dangerous is Tuesday.\n"
          ]
        }
      ]
    },
    {
      "cell_type": "markdown",
      "source": [
        "8. How many accidents are happening in the morning, afternoon and at night?"
      ],
      "metadata": {
        "id": "fjqtW6uHEISH"
      }
    },
    {
      "cell_type": "code",
      "source": [
        "df.groupby(\"Part of the day\")[\"Part of the day\"].count()"
      ],
      "metadata": {
        "id": "fp-qWtWTAWgW",
        "colab": {
          "base_uri": "https://localhost:8080/"
        },
        "outputId": "6624c176-60a7-4d61-d973-1241a45bd4e0"
      },
      "execution_count": 11,
      "outputs": [
        {
          "output_type": "execute_result",
          "data": {
            "text/plain": [
              "Part of the day\n",
              "Afternoon    5082\n",
              "Morning      4067\n",
              "Night        1190\n",
              "Name: Part of the day, dtype: int64"
            ]
          },
          "metadata": {},
          "execution_count": 11
        }
      ]
    },
    {
      "cell_type": "markdown",
      "source": [
        "9. Show all accidents that don't involve vehicles"
      ],
      "metadata": {
        "id": "pppX2UTPEQAm"
      }
    },
    {
      "cell_type": "code",
      "source": [
        "df[df[\"Vehicles involved\"].isnull() | df[\"Vehicles involved\"] == 0]"
      ],
      "metadata": {
        "id": "P5Q-frPFAe17",
        "colab": {
          "base_uri": "https://localhost:8080/",
          "height": 371
        },
        "outputId": "23a87386-2964-4448-ca2a-802021e6c74d"
      },
      "execution_count": 23,
      "outputs": [
        {
          "output_type": "execute_result",
          "data": {
            "text/plain": [
              "                   Id        District Name       Neighborhood Name  \\\n",
              "2599  2017S008743               Sant Martí   el Besòs i el Maresme   \n",
              "5866  2017S009423           Sants-Montjuïc                   Sants   \n",
              "5916  2017S009606                Les Corts               les Corts   \n",
              "9798  2017S009518           Sants-Montjuïc                   Sants   \n",
              "9862  2017S001721      Sarrià-Sant Gervasi  Sant Gervasi - Galvany   \n",
              "\n",
              "                                                 Street   Weekday     Month  \\\n",
              "2599  Foix                                          ...    Sunday   October   \n",
              "5866  Josep Tarradellas / rosello                   ...    Monday  November   \n",
              "5916  Entença / Diagonal                            ...    Sunday  November   \n",
              "9798  Madrid                                        ...  Thursday  November   \n",
              "9862  RDA DALT (BESÒS)                              ...  Thursday     March   \n",
              "\n",
              "      Day  Hour Part of the day  Mild injuries  Serious injuries  Victims  \\\n",
              "2599   22    20       Afternoon              0                 0        0   \n",
              "5866   13    19       Afternoon              0                 0        0   \n",
              "5916   19     3           Night              0                 0        0   \n",
              "9798   16    16       Afternoon              0                 0        0   \n",
              "9862    2    14       Afternoon              0                 0        0   \n",
              "\n",
              "      Vehicles involved  Longitude   Latitude  \n",
              "2599                  0   2.213825  41.418826  \n",
              "5866                  0   2.142413  41.382401  \n",
              "5916                  0   2.137125  41.390772  \n",
              "9798                  0   2.134137  41.381155  \n",
              "9862                  0   2.108666  41.391698  "
            ],
            "text/html": [
              "\n",
              "  <div id=\"df-6e002b0c-1f98-4b72-957d-4c3f344250e5\">\n",
              "    <div class=\"colab-df-container\">\n",
              "      <div>\n",
              "<style scoped>\n",
              "    .dataframe tbody tr th:only-of-type {\n",
              "        vertical-align: middle;\n",
              "    }\n",
              "\n",
              "    .dataframe tbody tr th {\n",
              "        vertical-align: top;\n",
              "    }\n",
              "\n",
              "    .dataframe thead th {\n",
              "        text-align: right;\n",
              "    }\n",
              "</style>\n",
              "<table border=\"1\" class=\"dataframe\">\n",
              "  <thead>\n",
              "    <tr style=\"text-align: right;\">\n",
              "      <th></th>\n",
              "      <th>Id</th>\n",
              "      <th>District Name</th>\n",
              "      <th>Neighborhood Name</th>\n",
              "      <th>Street</th>\n",
              "      <th>Weekday</th>\n",
              "      <th>Month</th>\n",
              "      <th>Day</th>\n",
              "      <th>Hour</th>\n",
              "      <th>Part of the day</th>\n",
              "      <th>Mild injuries</th>\n",
              "      <th>Serious injuries</th>\n",
              "      <th>Victims</th>\n",
              "      <th>Vehicles involved</th>\n",
              "      <th>Longitude</th>\n",
              "      <th>Latitude</th>\n",
              "    </tr>\n",
              "  </thead>\n",
              "  <tbody>\n",
              "    <tr>\n",
              "      <th>2599</th>\n",
              "      <td>2017S008743</td>\n",
              "      <td>Sant Martí</td>\n",
              "      <td>el Besòs i el Maresme</td>\n",
              "      <td>Foix                                          ...</td>\n",
              "      <td>Sunday</td>\n",
              "      <td>October</td>\n",
              "      <td>22</td>\n",
              "      <td>20</td>\n",
              "      <td>Afternoon</td>\n",
              "      <td>0</td>\n",
              "      <td>0</td>\n",
              "      <td>0</td>\n",
              "      <td>0</td>\n",
              "      <td>2.213825</td>\n",
              "      <td>41.418826</td>\n",
              "    </tr>\n",
              "    <tr>\n",
              "      <th>5866</th>\n",
              "      <td>2017S009423</td>\n",
              "      <td>Sants-Montjuïc</td>\n",
              "      <td>Sants</td>\n",
              "      <td>Josep Tarradellas / rosello                   ...</td>\n",
              "      <td>Monday</td>\n",
              "      <td>November</td>\n",
              "      <td>13</td>\n",
              "      <td>19</td>\n",
              "      <td>Afternoon</td>\n",
              "      <td>0</td>\n",
              "      <td>0</td>\n",
              "      <td>0</td>\n",
              "      <td>0</td>\n",
              "      <td>2.142413</td>\n",
              "      <td>41.382401</td>\n",
              "    </tr>\n",
              "    <tr>\n",
              "      <th>5916</th>\n",
              "      <td>2017S009606</td>\n",
              "      <td>Les Corts</td>\n",
              "      <td>les Corts</td>\n",
              "      <td>Entença / Diagonal                            ...</td>\n",
              "      <td>Sunday</td>\n",
              "      <td>November</td>\n",
              "      <td>19</td>\n",
              "      <td>3</td>\n",
              "      <td>Night</td>\n",
              "      <td>0</td>\n",
              "      <td>0</td>\n",
              "      <td>0</td>\n",
              "      <td>0</td>\n",
              "      <td>2.137125</td>\n",
              "      <td>41.390772</td>\n",
              "    </tr>\n",
              "    <tr>\n",
              "      <th>9798</th>\n",
              "      <td>2017S009518</td>\n",
              "      <td>Sants-Montjuïc</td>\n",
              "      <td>Sants</td>\n",
              "      <td>Madrid                                        ...</td>\n",
              "      <td>Thursday</td>\n",
              "      <td>November</td>\n",
              "      <td>16</td>\n",
              "      <td>16</td>\n",
              "      <td>Afternoon</td>\n",
              "      <td>0</td>\n",
              "      <td>0</td>\n",
              "      <td>0</td>\n",
              "      <td>0</td>\n",
              "      <td>2.134137</td>\n",
              "      <td>41.381155</td>\n",
              "    </tr>\n",
              "    <tr>\n",
              "      <th>9862</th>\n",
              "      <td>2017S001721</td>\n",
              "      <td>Sarrià-Sant Gervasi</td>\n",
              "      <td>Sant Gervasi - Galvany</td>\n",
              "      <td>RDA DALT (BESÒS)                              ...</td>\n",
              "      <td>Thursday</td>\n",
              "      <td>March</td>\n",
              "      <td>2</td>\n",
              "      <td>14</td>\n",
              "      <td>Afternoon</td>\n",
              "      <td>0</td>\n",
              "      <td>0</td>\n",
              "      <td>0</td>\n",
              "      <td>0</td>\n",
              "      <td>2.108666</td>\n",
              "      <td>41.391698</td>\n",
              "    </tr>\n",
              "  </tbody>\n",
              "</table>\n",
              "</div>\n",
              "      <button class=\"colab-df-convert\" onclick=\"convertToInteractive('df-6e002b0c-1f98-4b72-957d-4c3f344250e5')\"\n",
              "              title=\"Convert this dataframe to an interactive table.\"\n",
              "              style=\"display:none;\">\n",
              "        \n",
              "  <svg xmlns=\"http://www.w3.org/2000/svg\" height=\"24px\"viewBox=\"0 0 24 24\"\n",
              "       width=\"24px\">\n",
              "    <path d=\"M0 0h24v24H0V0z\" fill=\"none\"/>\n",
              "    <path d=\"M18.56 5.44l.94 2.06.94-2.06 2.06-.94-2.06-.94-.94-2.06-.94 2.06-2.06.94zm-11 1L8.5 8.5l.94-2.06 2.06-.94-2.06-.94L8.5 2.5l-.94 2.06-2.06.94zm10 10l.94 2.06.94-2.06 2.06-.94-2.06-.94-.94-2.06-.94 2.06-2.06.94z\"/><path d=\"M17.41 7.96l-1.37-1.37c-.4-.4-.92-.59-1.43-.59-.52 0-1.04.2-1.43.59L10.3 9.45l-7.72 7.72c-.78.78-.78 2.05 0 2.83L4 21.41c.39.39.9.59 1.41.59.51 0 1.02-.2 1.41-.59l7.78-7.78 2.81-2.81c.8-.78.8-2.07 0-2.86zM5.41 20L4 18.59l7.72-7.72 1.47 1.35L5.41 20z\"/>\n",
              "  </svg>\n",
              "      </button>\n",
              "      \n",
              "  <style>\n",
              "    .colab-df-container {\n",
              "      display:flex;\n",
              "      flex-wrap:wrap;\n",
              "      gap: 12px;\n",
              "    }\n",
              "\n",
              "    .colab-df-convert {\n",
              "      background-color: #E8F0FE;\n",
              "      border: none;\n",
              "      border-radius: 50%;\n",
              "      cursor: pointer;\n",
              "      display: none;\n",
              "      fill: #1967D2;\n",
              "      height: 32px;\n",
              "      padding: 0 0 0 0;\n",
              "      width: 32px;\n",
              "    }\n",
              "\n",
              "    .colab-df-convert:hover {\n",
              "      background-color: #E2EBFA;\n",
              "      box-shadow: 0px 1px 2px rgba(60, 64, 67, 0.3), 0px 1px 3px 1px rgba(60, 64, 67, 0.15);\n",
              "      fill: #174EA6;\n",
              "    }\n",
              "\n",
              "    [theme=dark] .colab-df-convert {\n",
              "      background-color: #3B4455;\n",
              "      fill: #D2E3FC;\n",
              "    }\n",
              "\n",
              "    [theme=dark] .colab-df-convert:hover {\n",
              "      background-color: #434B5C;\n",
              "      box-shadow: 0px 1px 3px 1px rgba(0, 0, 0, 0.15);\n",
              "      filter: drop-shadow(0px 1px 2px rgba(0, 0, 0, 0.3));\n",
              "      fill: #FFFFFF;\n",
              "    }\n",
              "  </style>\n",
              "\n",
              "      <script>\n",
              "        const buttonEl =\n",
              "          document.querySelector('#df-6e002b0c-1f98-4b72-957d-4c3f344250e5 button.colab-df-convert');\n",
              "        buttonEl.style.display =\n",
              "          google.colab.kernel.accessAllowed ? 'block' : 'none';\n",
              "\n",
              "        async function convertToInteractive(key) {\n",
              "          const element = document.querySelector('#df-6e002b0c-1f98-4b72-957d-4c3f344250e5');\n",
              "          const dataTable =\n",
              "            await google.colab.kernel.invokeFunction('convertToInteractive',\n",
              "                                                     [key], {});\n",
              "          if (!dataTable) return;\n",
              "\n",
              "          const docLinkHtml = 'Like what you see? Visit the ' +\n",
              "            '<a target=\"_blank\" href=https://colab.research.google.com/notebooks/data_table.ipynb>data table notebook</a>'\n",
              "            + ' to learn more about interactive tables.';\n",
              "          element.innerHTML = '';\n",
              "          dataTable['output_type'] = 'display_data';\n",
              "          await google.colab.output.renderOutput(dataTable, element);\n",
              "          const docLink = document.createElement('div');\n",
              "          docLink.innerHTML = docLinkHtml;\n",
              "          element.appendChild(docLink);\n",
              "        }\n",
              "      </script>\n",
              "    </div>\n",
              "  </div>\n",
              "  "
            ]
          },
          "metadata": {},
          "execution_count": 23
        }
      ]
    },
    {
      "cell_type": "markdown",
      "source": [
        "10. What is the ratio of mild injuries and serius injures?"
      ],
      "metadata": {
        "id": "sLuRqFTBEZTI"
      }
    },
    {
      "cell_type": "code",
      "source": [
        "mild = df[\"Mild injuries\"].sum()\n",
        "serious = df[\"Serious injuries\"].sum()\n",
        "\n",
        "print(\"Ratio of mild to serious:\")\n",
        "print(f\"{mild/serious} : {serious/serious}\")"
      ],
      "metadata": {
        "id": "kuUTNq9KA-OH",
        "colab": {
          "base_uri": "https://localhost:8080/"
        },
        "outputId": "316c2af5-bfd0-43f9-c5fa-41a62da2409d"
      },
      "execution_count": 19,
      "outputs": [
        {
          "output_type": "stream",
          "name": "stdout",
          "text": [
            "Ratio of mild to serious:\n",
            "49.51452282157676 : 1.0\n"
          ]
        }
      ]
    },
    {
      "cell_type": "markdown",
      "source": [
        "11. Output 5 streets with most Victims"
      ],
      "metadata": {
        "id": "TPuHJHe4GX3O"
      }
    },
    {
      "cell_type": "code",
      "source": [
        "df.groupby(\"Street\")[\"Victims\"].sum().sort_values(ascending=False).iloc[:5]\n"
      ],
      "metadata": {
        "id": "vb9p442FGZx5",
        "colab": {
          "base_uri": "https://localhost:8080/"
        },
        "outputId": "2d6c48df-7ac9-45f3-95d4-ed6101e48972"
      },
      "execution_count": 15,
      "outputs": [
        {
          "output_type": "execute_result",
          "data": {
            "text/plain": [
              "Street\n",
              "Corts Catalanes                                       271\n",
              "Diagonal                                              231\n",
              "Litoral (Llobregat)                                   183\n",
              "Litoral (Besòs)                                       140\n",
              "Meridiana                                             131\n",
              "Name: Victims, dtype: int64"
            ]
          },
          "metadata": {},
          "execution_count": 15
        }
      ]
    },
    {
      "cell_type": "markdown",
      "source": [
        "12. Save the dataset as `accidents_2017.сsv` with coma separator and encoding 'utf-8'. Use `to_csv` method with `index=False` attribute to prevent the creation of an additional column with indexes"
      ],
      "metadata": {
        "id": "LYKT0KOjE3bv"
      }
    },
    {
      "cell_type": "code",
      "source": [
        "df.to_csv(\"accidents_2017.сsv\", encoding=\"utf-8\", sep=\",\", index=False)"
      ],
      "metadata": {
        "id": "aK4zJj-bFcZk"
      },
      "execution_count": 26,
      "outputs": []
    }
  ]
}