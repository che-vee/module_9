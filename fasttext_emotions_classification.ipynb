{
  "cells": [
    {
      "cell_type": "code",
      "execution_count": null,
      "metadata": {
        "colab": {
          "base_uri": "https://localhost:8080/"
        },
        "id": "mNvjmsPq_4pv",
        "outputId": "66b132a6-5499-4491-8973-82b139ee8b35"
      },
      "outputs": [
        {
          "output_type": "stream",
          "name": "stdout",
          "text": [
            "Requirement already satisfied: fasttext in /usr/local/lib/python3.7/dist-packages (0.9.2)\n",
            "Requirement already satisfied: numpy in /usr/local/lib/python3.7/dist-packages (from fasttext) (1.21.5)\n",
            "Requirement already satisfied: setuptools>=0.7.0 in /usr/local/lib/python3.7/dist-packages (from fasttext) (57.4.0)\n",
            "Requirement already satisfied: pybind11>=2.2 in /usr/local/lib/python3.7/dist-packages (from fasttext) (2.9.2)\n"
          ]
        }
      ],
      "source": [
        "!pip install fasttext"
      ]
    },
    {
      "cell_type": "code",
      "execution_count": null,
      "metadata": {
        "id": "o8kM8Ptr96Bd"
      },
      "outputs": [],
      "source": [
        "import pandas as pd\n",
        "import fasttext\n",
        "import html"
      ]
    },
    {
      "cell_type": "markdown",
      "metadata": {
        "id": "uUwiZd34qNyX"
      },
      "source": [
        "# Unprocessed Data\n",
        "\n",
        "1. Prepare data according to the format required by fasttext."
      ]
    },
    {
      "cell_type": "code",
      "execution_count": null,
      "metadata": {
        "colab": {
          "base_uri": "https://localhost:8080/"
        },
        "id": "MvIIs64sqQZk",
        "outputId": "1d51ba0d-c0db-4671-e353-d7e95116cd29"
      },
      "outputs": [
        {
          "output_type": "stream",
          "name": "stdout",
          "text": [
            "<class 'pandas.core.frame.DataFrame'>\n",
            "RangeIndex: 40000 entries, 0 to 39999\n",
            "Data columns (total 2 columns):\n",
            " #   Column     Non-Null Count  Dtype \n",
            "---  ------     --------------  ----- \n",
            " 0   sentiment  40000 non-null  object\n",
            " 1   content    40000 non-null  object\n",
            "dtypes: object(2)\n",
            "memory usage: 625.1+ KB\n"
          ]
        }
      ],
      "source": [
        "df = pd.read_csv(\"tweet_emotions.csv\")\n",
        "\n",
        "df[\"sentiment\"] = \"__label__\" + df[\"sentiment\"]\n",
        "df.drop(\"tweet_id\", axis=1, inplace=True)\n",
        "\n",
        "df.info()"
      ]
    },
    {
      "cell_type": "code",
      "execution_count": null,
      "metadata": {
        "colab": {
          "base_uri": "https://localhost:8080/",
          "height": 423
        },
        "id": "RS8eNocI7deK",
        "outputId": "09759033-d93c-4f12-d33b-4fcac82ff431"
      },
      "outputs": [
        {
          "output_type": "execute_result",
          "data": {
            "text/plain": [
              "                 sentiment                                            content\n",
              "0           __label__empty  @tiffanylue i know  i was listenin to bad habi...\n",
              "1         __label__sadness  Layin n bed with a headache  ughhhh...waitin o...\n",
              "2         __label__sadness                Funeral ceremony...gloomy friday...\n",
              "3      __label__enthusiasm               wants to hang out with friends SOON!\n",
              "4         __label__neutral  @dannycastillo We want to trade with someone w...\n",
              "...                    ...                                                ...\n",
              "39995     __label__neutral                                   @JohnLloydTaylor\n",
              "39996        __label__love                     Happy Mothers Day  All my love\n",
              "39997        __label__love  Happy Mother's Day to all the mommies out ther...\n",
              "39998   __label__happiness  @niariley WASSUP BEAUTIFUL!!! FOLLOW ME!!  PEE...\n",
              "39999        __label__love  @mopedronin bullet train from tokyo    the gf ...\n",
              "\n",
              "[40000 rows x 2 columns]"
            ],
            "text/html": [
              "\n",
              "  <div id=\"df-bb450354-9dac-4281-a5ee-9a9742760c9e\">\n",
              "    <div class=\"colab-df-container\">\n",
              "      <div>\n",
              "<style scoped>\n",
              "    .dataframe tbody tr th:only-of-type {\n",
              "        vertical-align: middle;\n",
              "    }\n",
              "\n",
              "    .dataframe tbody tr th {\n",
              "        vertical-align: top;\n",
              "    }\n",
              "\n",
              "    .dataframe thead th {\n",
              "        text-align: right;\n",
              "    }\n",
              "</style>\n",
              "<table border=\"1\" class=\"dataframe\">\n",
              "  <thead>\n",
              "    <tr style=\"text-align: right;\">\n",
              "      <th></th>\n",
              "      <th>sentiment</th>\n",
              "      <th>content</th>\n",
              "    </tr>\n",
              "  </thead>\n",
              "  <tbody>\n",
              "    <tr>\n",
              "      <th>0</th>\n",
              "      <td>__label__empty</td>\n",
              "      <td>@tiffanylue i know  i was listenin to bad habi...</td>\n",
              "    </tr>\n",
              "    <tr>\n",
              "      <th>1</th>\n",
              "      <td>__label__sadness</td>\n",
              "      <td>Layin n bed with a headache  ughhhh...waitin o...</td>\n",
              "    </tr>\n",
              "    <tr>\n",
              "      <th>2</th>\n",
              "      <td>__label__sadness</td>\n",
              "      <td>Funeral ceremony...gloomy friday...</td>\n",
              "    </tr>\n",
              "    <tr>\n",
              "      <th>3</th>\n",
              "      <td>__label__enthusiasm</td>\n",
              "      <td>wants to hang out with friends SOON!</td>\n",
              "    </tr>\n",
              "    <tr>\n",
              "      <th>4</th>\n",
              "      <td>__label__neutral</td>\n",
              "      <td>@dannycastillo We want to trade with someone w...</td>\n",
              "    </tr>\n",
              "    <tr>\n",
              "      <th>...</th>\n",
              "      <td>...</td>\n",
              "      <td>...</td>\n",
              "    </tr>\n",
              "    <tr>\n",
              "      <th>39995</th>\n",
              "      <td>__label__neutral</td>\n",
              "      <td>@JohnLloydTaylor</td>\n",
              "    </tr>\n",
              "    <tr>\n",
              "      <th>39996</th>\n",
              "      <td>__label__love</td>\n",
              "      <td>Happy Mothers Day  All my love</td>\n",
              "    </tr>\n",
              "    <tr>\n",
              "      <th>39997</th>\n",
              "      <td>__label__love</td>\n",
              "      <td>Happy Mother's Day to all the mommies out ther...</td>\n",
              "    </tr>\n",
              "    <tr>\n",
              "      <th>39998</th>\n",
              "      <td>__label__happiness</td>\n",
              "      <td>@niariley WASSUP BEAUTIFUL!!! FOLLOW ME!!  PEE...</td>\n",
              "    </tr>\n",
              "    <tr>\n",
              "      <th>39999</th>\n",
              "      <td>__label__love</td>\n",
              "      <td>@mopedronin bullet train from tokyo    the gf ...</td>\n",
              "    </tr>\n",
              "  </tbody>\n",
              "</table>\n",
              "<p>40000 rows × 2 columns</p>\n",
              "</div>\n",
              "      <button class=\"colab-df-convert\" onclick=\"convertToInteractive('df-bb450354-9dac-4281-a5ee-9a9742760c9e')\"\n",
              "              title=\"Convert this dataframe to an interactive table.\"\n",
              "              style=\"display:none;\">\n",
              "        \n",
              "  <svg xmlns=\"http://www.w3.org/2000/svg\" height=\"24px\"viewBox=\"0 0 24 24\"\n",
              "       width=\"24px\">\n",
              "    <path d=\"M0 0h24v24H0V0z\" fill=\"none\"/>\n",
              "    <path d=\"M18.56 5.44l.94 2.06.94-2.06 2.06-.94-2.06-.94-.94-2.06-.94 2.06-2.06.94zm-11 1L8.5 8.5l.94-2.06 2.06-.94-2.06-.94L8.5 2.5l-.94 2.06-2.06.94zm10 10l.94 2.06.94-2.06 2.06-.94-2.06-.94-.94-2.06-.94 2.06-2.06.94z\"/><path d=\"M17.41 7.96l-1.37-1.37c-.4-.4-.92-.59-1.43-.59-.52 0-1.04.2-1.43.59L10.3 9.45l-7.72 7.72c-.78.78-.78 2.05 0 2.83L4 21.41c.39.39.9.59 1.41.59.51 0 1.02-.2 1.41-.59l7.78-7.78 2.81-2.81c.8-.78.8-2.07 0-2.86zM5.41 20L4 18.59l7.72-7.72 1.47 1.35L5.41 20z\"/>\n",
              "  </svg>\n",
              "      </button>\n",
              "      \n",
              "  <style>\n",
              "    .colab-df-container {\n",
              "      display:flex;\n",
              "      flex-wrap:wrap;\n",
              "      gap: 12px;\n",
              "    }\n",
              "\n",
              "    .colab-df-convert {\n",
              "      background-color: #E8F0FE;\n",
              "      border: none;\n",
              "      border-radius: 50%;\n",
              "      cursor: pointer;\n",
              "      display: none;\n",
              "      fill: #1967D2;\n",
              "      height: 32px;\n",
              "      padding: 0 0 0 0;\n",
              "      width: 32px;\n",
              "    }\n",
              "\n",
              "    .colab-df-convert:hover {\n",
              "      background-color: #E2EBFA;\n",
              "      box-shadow: 0px 1px 2px rgba(60, 64, 67, 0.3), 0px 1px 3px 1px rgba(60, 64, 67, 0.15);\n",
              "      fill: #174EA6;\n",
              "    }\n",
              "\n",
              "    [theme=dark] .colab-df-convert {\n",
              "      background-color: #3B4455;\n",
              "      fill: #D2E3FC;\n",
              "    }\n",
              "\n",
              "    [theme=dark] .colab-df-convert:hover {\n",
              "      background-color: #434B5C;\n",
              "      box-shadow: 0px 1px 3px 1px rgba(0, 0, 0, 0.15);\n",
              "      filter: drop-shadow(0px 1px 2px rgba(0, 0, 0, 0.3));\n",
              "      fill: #FFFFFF;\n",
              "    }\n",
              "  </style>\n",
              "\n",
              "      <script>\n",
              "        const buttonEl =\n",
              "          document.querySelector('#df-bb450354-9dac-4281-a5ee-9a9742760c9e button.colab-df-convert');\n",
              "        buttonEl.style.display =\n",
              "          google.colab.kernel.accessAllowed ? 'block' : 'none';\n",
              "\n",
              "        async function convertToInteractive(key) {\n",
              "          const element = document.querySelector('#df-bb450354-9dac-4281-a5ee-9a9742760c9e');\n",
              "          const dataTable =\n",
              "            await google.colab.kernel.invokeFunction('convertToInteractive',\n",
              "                                                     [key], {});\n",
              "          if (!dataTable) return;\n",
              "\n",
              "          const docLinkHtml = 'Like what you see? Visit the ' +\n",
              "            '<a target=\"_blank\" href=https://colab.research.google.com/notebooks/data_table.ipynb>data table notebook</a>'\n",
              "            + ' to learn more about interactive tables.';\n",
              "          element.innerHTML = '';\n",
              "          dataTable['output_type'] = 'display_data';\n",
              "          await google.colab.output.renderOutput(dataTable, element);\n",
              "          const docLink = document.createElement('div');\n",
              "          docLink.innerHTML = docLinkHtml;\n",
              "          element.appendChild(docLink);\n",
              "        }\n",
              "      </script>\n",
              "    </div>\n",
              "  </div>\n",
              "  "
            ]
          },
          "metadata": {},
          "execution_count": 6
        }
      ],
      "source": [
        "df"
      ]
    },
    {
      "cell_type": "code",
      "execution_count": null,
      "metadata": {
        "id": "nbuPjmt4qF_8"
      },
      "outputs": [],
      "source": [
        "df.to_csv(r\"tweet_emotions.unprocessed.txt\", header=None, index=None, sep=\" \")"
      ]
    },
    {
      "cell_type": "markdown",
      "metadata": {
        "id": "KvjDWk-C7v-g"
      },
      "source": [
        "2. Split all tweets into two groups: the first 70% should go to the train part and another 30% – to the test."
      ]
    },
    {
      "cell_type": "code",
      "execution_count": null,
      "metadata": {
        "id": "2_Sf1pKwq4eI"
      },
      "outputs": [],
      "source": [
        "!head -n 28000 tweet_emotions.unprocessed.txt > tweet_emotions.unprocessed.train\n",
        "!tail -n 12000 tweet_emotions.unprocessed.txt > tweet_emotions.unprocessed.valid"
      ]
    },
    {
      "cell_type": "markdown",
      "metadata": {
        "id": "Lm7X7zJU8RyR"
      },
      "source": [
        "3. Train classification model on train subset and predict on the test one"
      ]
    },
    {
      "cell_type": "code",
      "execution_count": null,
      "metadata": {
        "id": "x_y5awE1rDJc"
      },
      "outputs": [],
      "source": [
        "model = fasttext.train_supervised(\"tweet_emotions.unprocessed.train\")"
      ]
    },
    {
      "cell_type": "code",
      "execution_count": null,
      "metadata": {
        "colab": {
          "base_uri": "https://localhost:8080/"
        },
        "id": "ttBg7dC8s5gI",
        "outputId": "0b7c63ae-7ca7-4aaa-d7ec-95018247726d"
      },
      "outputs": [
        {
          "output_type": "execute_result",
          "data": {
            "text/plain": [
              "(12000, 0.31033333333333335, 0.31033333333333335)"
            ]
          },
          "metadata": {},
          "execution_count": 10
        }
      ],
      "source": [
        "model.test(\"tweet_emotions.unprocessed.valid\")"
      ]
    },
    {
      "cell_type": "markdown",
      "metadata": {
        "id": "KbVM4Q4C9ffH"
      },
      "source": [
        "4.  Calculate accuracy (percentage of guessed) emotions on test subset\n",
        "\n",
        "    Accuracy = Precision = Recall \n",
        "\n",
        "    ~0.31"
      ]
    },
    {
      "cell_type": "code",
      "execution_count": null,
      "metadata": {
        "colab": {
          "base_uri": "https://localhost:8080/"
        },
        "id": "kZemyADfxMdB",
        "outputId": "07c3e22f-7110-4f5f-f021-beb01d4cf68e"
      },
      "outputs": [
        {
          "output_type": "execute_result",
          "data": {
            "text/plain": [
              "{'__label__anger': {'f1score': nan, 'precision': nan, 'recall': nan},\n",
              " '__label__boredom': {'f1score': nan, 'precision': nan, 'recall': nan},\n",
              " '__label__empty': {'f1score': nan, 'precision': nan, 'recall': nan},\n",
              " '__label__enthusiasm': {'f1score': nan, 'precision': nan, 'recall': nan},\n",
              " '__label__fun': {'f1score': nan, 'precision': nan, 'recall': nan},\n",
              " '__label__happiness': {'f1score': 0.6557514693534845,\n",
              "  'precision': 0.32787573467674225,\n",
              "  'recall': nan},\n",
              " '__label__hate': {'f1score': 1.5, 'precision': 0.75, 'recall': nan},\n",
              " '__label__love': {'f1score': 0.9502762430939227,\n",
              "  'precision': 0.47513812154696133,\n",
              "  'recall': nan},\n",
              " '__label__neutral': {'f1score': 0.5975844084545704,\n",
              "  'precision': 0.2987922042272852,\n",
              "  'recall': nan},\n",
              " '__label__relief': {'f1score': nan, 'precision': nan, 'recall': nan},\n",
              " '__label__sadness': {'f1score': 0.22580645161290322,\n",
              "  'precision': 0.11290322580645161,\n",
              "  'recall': nan},\n",
              " '__label__surprise': {'f1score': nan, 'precision': nan, 'recall': nan},\n",
              " '__label__worry': {'f1score': 0.4067796610169492,\n",
              "  'precision': 0.2033898305084746,\n",
              "  'recall': nan}}"
            ]
          },
          "metadata": {},
          "execution_count": 11
        }
      ],
      "source": [
        "model.test_label(\"tweet_emotions.unprocessed.valid\")"
      ]
    },
    {
      "cell_type": "markdown",
      "metadata": {
        "id": "vPEQhNW0-GQT"
      },
      "source": [
        " 5. Provide random examples: text / label / predicted label"
      ]
    },
    {
      "cell_type": "code",
      "execution_count": null,
      "metadata": {
        "colab": {
          "base_uri": "https://localhost:8080/"
        },
        "id": "LVt5CUcotKAX",
        "outputId": "02ae65e4-34e7-46dd-a638-592b86a30388"
      },
      "outputs": [
        {
          "output_type": "execute_result",
          "data": {
            "text/plain": [
              "(('__label__neutral',), array([0.2979269]))"
            ]
          },
          "metadata": {},
          "execution_count": 12
        }
      ],
      "source": [
        "#  happiness\n",
        "model.predict(\"had SUCH and AMAZING time last night, McFly were INCREDIBLE\")"
      ]
    },
    {
      "cell_type": "code",
      "execution_count": null,
      "metadata": {
        "colab": {
          "base_uri": "https://localhost:8080/"
        },
        "id": "wJ5hylg22r2c",
        "outputId": "4c583a32-05d4-4f15-8e04-0b163143b7f2"
      },
      "outputs": [
        {
          "output_type": "execute_result",
          "data": {
            "text/plain": [
              "(('__label__neutral',), array([0.29117396]))"
            ]
          },
          "metadata": {},
          "execution_count": 13
        }
      ],
      "source": [
        "# love\n",
        "model.predict(\"@mopedronin bullet train from tokyo    the gf and i have been visiting japan since thursday  vacation/sightseeing    gaijin godzilla\")"
      ]
    },
    {
      "cell_type": "code",
      "execution_count": null,
      "metadata": {
        "colab": {
          "base_uri": "https://localhost:8080/"
        },
        "id": "zqABLKpb3Hqa",
        "outputId": "5c3be620-2266-48a9-b16a-0f4de4da8a7b"
      },
      "outputs": [
        {
          "output_type": "execute_result",
          "data": {
            "text/plain": [
              "(('__label__happiness',), array([0.38186407]))"
            ]
          },
          "metadata": {},
          "execution_count": 14
        }
      ],
      "source": [
        "# fun\n",
        "model.predict(\"good morning/midday nation!  FORMULA ONE IN ONE HOUR!\")"
      ]
    },
    {
      "cell_type": "code",
      "execution_count": null,
      "metadata": {
        "colab": {
          "base_uri": "https://localhost:8080/"
        },
        "id": "j4euPp1k3Sbo",
        "outputId": "50f8490e-afb0-4199-ab5f-390b7dcb2023"
      },
      "outputs": [
        {
          "output_type": "execute_result",
          "data": {
            "text/plain": [
              "(('__label__neutral',), array([0.8196938]))"
            ]
          },
          "metadata": {},
          "execution_count": 15
        }
      ],
      "source": [
        "# surprise\n",
        "model.predict(\"@BuddingGenius you dont say\")"
      ]
    },
    {
      "cell_type": "code",
      "execution_count": null,
      "metadata": {
        "colab": {
          "base_uri": "https://localhost:8080/"
        },
        "id": "jEw6P-jq4dco",
        "outputId": "c1d74cb2-7253-403e-bb66-b87ba65da47f"
      },
      "outputs": [
        {
          "output_type": "execute_result",
          "data": {
            "text/plain": [
              "(('__label__neutral',), array([0.46377569]))"
            ]
          },
          "metadata": {},
          "execution_count": 16
        }
      ],
      "source": [
        "# neutral\n",
        "model.predict(\"revision...what fun...still I have thursday to do basically nothing\")"
      ]
    },
    {
      "cell_type": "markdown",
      "metadata": {
        "id": "GX5QJREJ-sPx"
      },
      "source": [
        "# Processed Data\n",
        "\n",
        "1. Prepare and clean data\n",
        "    (remove what doesn't add value to the sentiment analysis)"
      ]
    },
    {
      "cell_type": "code",
      "execution_count": null,
      "metadata": {
        "colab": {
          "base_uri": "https://localhost:8080/"
        },
        "id": "slMGs9k9AZP_",
        "outputId": "c115fff5-bf1e-4b3a-bdec-503620d0a4ba"
      },
      "outputs": [
        {
          "output_type": "stream",
          "name": "stdout",
          "text": [
            "<class 'pandas.core.frame.DataFrame'>\n",
            "RangeIndex: 40000 entries, 0 to 39999\n",
            "Data columns (total 2 columns):\n",
            " #   Column     Non-Null Count  Dtype \n",
            "---  ------     --------------  ----- \n",
            " 0   sentiment  40000 non-null  object\n",
            " 1   content    40000 non-null  object\n",
            "dtypes: object(2)\n",
            "memory usage: 625.1+ KB\n"
          ]
        }
      ],
      "source": [
        "# convert html\n",
        "df[\"content\"] =df[\"content\"].apply(lambda x: html.unescape(x))\n",
        "# remove @ users and links\n",
        "df[\"content\"] = df[\"content\"].str.replace(r\"@[\\w]*|https?://[\\w]*\", \"\", regex=True)\n",
        "# remove all punctuation\n",
        "df[\"content\"] = df[\"content\"].str.replace(r\"[^\\w\\s]\", \" \", regex=True)\n",
        "# convert text to lowercase\n",
        "df[\"content\"] = df[\"content\"].apply(lambda x: x.lower())\n",
        "\n",
        "df.info()"
      ]
    },
    {
      "cell_type": "code",
      "execution_count": null,
      "metadata": {
        "colab": {
          "base_uri": "https://localhost:8080/",
          "height": 672
        },
        "id": "VN5Y4wTxA4QO",
        "outputId": "d32f8bf8-15f1-4c22-ec8d-690d648de23b"
      },
      "outputs": [
        {
          "output_type": "execute_result",
          "data": {
            "text/plain": [
              "                 sentiment                                            content\n",
              "0           __label__empty   i know  i was listenin to bad habit earlier a...\n",
              "1         __label__sadness  layin n bed with a headache  ughhhh   waitin o...\n",
              "2         __label__sadness                funeral ceremony   gloomy friday   \n",
              "3      __label__enthusiasm               wants to hang out with friends soon \n",
              "4         __label__neutral   we want to trade with someone who has houston...\n",
              "...                    ...                                                ...\n",
              "39995     __label__neutral                                                   \n",
              "39996        __label__love                     happy mothers day  all my love\n",
              "39997        __label__love  happy mother s day to all the mommies out ther...\n",
              "39998   __label__happiness   wassup beautiful    follow me    peep out my ...\n",
              "39999        __label__love   bullet train from tokyo    the gf and i have ...\n",
              "\n",
              "[40000 rows x 2 columns]"
            ],
            "text/html": [
              "\n",
              "  <div id=\"df-eab5dbc6-bb5f-4352-aa90-03712de2013c\">\n",
              "    <div class=\"colab-df-container\">\n",
              "      <div>\n",
              "<style scoped>\n",
              "    .dataframe tbody tr th:only-of-type {\n",
              "        vertical-align: middle;\n",
              "    }\n",
              "\n",
              "    .dataframe tbody tr th {\n",
              "        vertical-align: top;\n",
              "    }\n",
              "\n",
              "    .dataframe thead th {\n",
              "        text-align: right;\n",
              "    }\n",
              "</style>\n",
              "<table border=\"1\" class=\"dataframe\">\n",
              "  <thead>\n",
              "    <tr style=\"text-align: right;\">\n",
              "      <th></th>\n",
              "      <th>sentiment</th>\n",
              "      <th>content</th>\n",
              "    </tr>\n",
              "  </thead>\n",
              "  <tbody>\n",
              "    <tr>\n",
              "      <th>0</th>\n",
              "      <td>__label__empty</td>\n",
              "      <td>i know  i was listenin to bad habit earlier a...</td>\n",
              "    </tr>\n",
              "    <tr>\n",
              "      <th>1</th>\n",
              "      <td>__label__sadness</td>\n",
              "      <td>layin n bed with a headache  ughhhh   waitin o...</td>\n",
              "    </tr>\n",
              "    <tr>\n",
              "      <th>2</th>\n",
              "      <td>__label__sadness</td>\n",
              "      <td>funeral ceremony   gloomy friday</td>\n",
              "    </tr>\n",
              "    <tr>\n",
              "      <th>3</th>\n",
              "      <td>__label__enthusiasm</td>\n",
              "      <td>wants to hang out with friends soon</td>\n",
              "    </tr>\n",
              "    <tr>\n",
              "      <th>4</th>\n",
              "      <td>__label__neutral</td>\n",
              "      <td>we want to trade with someone who has houston...</td>\n",
              "    </tr>\n",
              "    <tr>\n",
              "      <th>...</th>\n",
              "      <td>...</td>\n",
              "      <td>...</td>\n",
              "    </tr>\n",
              "    <tr>\n",
              "      <th>39995</th>\n",
              "      <td>__label__neutral</td>\n",
              "      <td></td>\n",
              "    </tr>\n",
              "    <tr>\n",
              "      <th>39996</th>\n",
              "      <td>__label__love</td>\n",
              "      <td>happy mothers day  all my love</td>\n",
              "    </tr>\n",
              "    <tr>\n",
              "      <th>39997</th>\n",
              "      <td>__label__love</td>\n",
              "      <td>happy mother s day to all the mommies out ther...</td>\n",
              "    </tr>\n",
              "    <tr>\n",
              "      <th>39998</th>\n",
              "      <td>__label__happiness</td>\n",
              "      <td>wassup beautiful    follow me    peep out my ...</td>\n",
              "    </tr>\n",
              "    <tr>\n",
              "      <th>39999</th>\n",
              "      <td>__label__love</td>\n",
              "      <td>bullet train from tokyo    the gf and i have ...</td>\n",
              "    </tr>\n",
              "  </tbody>\n",
              "</table>\n",
              "<p>40000 rows × 2 columns</p>\n",
              "</div>\n",
              "      <button class=\"colab-df-convert\" onclick=\"convertToInteractive('df-eab5dbc6-bb5f-4352-aa90-03712de2013c')\"\n",
              "              title=\"Convert this dataframe to an interactive table.\"\n",
              "              style=\"display:none;\">\n",
              "        \n",
              "  <svg xmlns=\"http://www.w3.org/2000/svg\" height=\"24px\"viewBox=\"0 0 24 24\"\n",
              "       width=\"24px\">\n",
              "    <path d=\"M0 0h24v24H0V0z\" fill=\"none\"/>\n",
              "    <path d=\"M18.56 5.44l.94 2.06.94-2.06 2.06-.94-2.06-.94-.94-2.06-.94 2.06-2.06.94zm-11 1L8.5 8.5l.94-2.06 2.06-.94-2.06-.94L8.5 2.5l-.94 2.06-2.06.94zm10 10l.94 2.06.94-2.06 2.06-.94-2.06-.94-.94-2.06-.94 2.06-2.06.94z\"/><path d=\"M17.41 7.96l-1.37-1.37c-.4-.4-.92-.59-1.43-.59-.52 0-1.04.2-1.43.59L10.3 9.45l-7.72 7.72c-.78.78-.78 2.05 0 2.83L4 21.41c.39.39.9.59 1.41.59.51 0 1.02-.2 1.41-.59l7.78-7.78 2.81-2.81c.8-.78.8-2.07 0-2.86zM5.41 20L4 18.59l7.72-7.72 1.47 1.35L5.41 20z\"/>\n",
              "  </svg>\n",
              "      </button>\n",
              "      \n",
              "  <style>\n",
              "    .colab-df-container {\n",
              "      display:flex;\n",
              "      flex-wrap:wrap;\n",
              "      gap: 12px;\n",
              "    }\n",
              "\n",
              "    .colab-df-convert {\n",
              "      background-color: #E8F0FE;\n",
              "      border: none;\n",
              "      border-radius: 50%;\n",
              "      cursor: pointer;\n",
              "      display: none;\n",
              "      fill: #1967D2;\n",
              "      height: 32px;\n",
              "      padding: 0 0 0 0;\n",
              "      width: 32px;\n",
              "    }\n",
              "\n",
              "    .colab-df-convert:hover {\n",
              "      background-color: #E2EBFA;\n",
              "      box-shadow: 0px 1px 2px rgba(60, 64, 67, 0.3), 0px 1px 3px 1px rgba(60, 64, 67, 0.15);\n",
              "      fill: #174EA6;\n",
              "    }\n",
              "\n",
              "    [theme=dark] .colab-df-convert {\n",
              "      background-color: #3B4455;\n",
              "      fill: #D2E3FC;\n",
              "    }\n",
              "\n",
              "    [theme=dark] .colab-df-convert:hover {\n",
              "      background-color: #434B5C;\n",
              "      box-shadow: 0px 1px 3px 1px rgba(0, 0, 0, 0.15);\n",
              "      filter: drop-shadow(0px 1px 2px rgba(0, 0, 0, 0.3));\n",
              "      fill: #FFFFFF;\n",
              "    }\n",
              "  </style>\n",
              "\n",
              "      <script>\n",
              "        const buttonEl =\n",
              "          document.querySelector('#df-eab5dbc6-bb5f-4352-aa90-03712de2013c button.colab-df-convert');\n",
              "        buttonEl.style.display =\n",
              "          google.colab.kernel.accessAllowed ? 'block' : 'none';\n",
              "\n",
              "        async function convertToInteractive(key) {\n",
              "          const element = document.querySelector('#df-eab5dbc6-bb5f-4352-aa90-03712de2013c');\n",
              "          const dataTable =\n",
              "            await google.colab.kernel.invokeFunction('convertToInteractive',\n",
              "                                                     [key], {});\n",
              "          if (!dataTable) return;\n",
              "\n",
              "          const docLinkHtml = 'Like what you see? Visit the ' +\n",
              "            '<a target=\"_blank\" href=https://colab.research.google.com/notebooks/data_table.ipynb>data table notebook</a>'\n",
              "            + ' to learn more about interactive tables.';\n",
              "          element.innerHTML = '';\n",
              "          dataTable['output_type'] = 'display_data';\n",
              "          await google.colab.output.renderOutput(dataTable, element);\n",
              "          const docLink = document.createElement('div');\n",
              "          docLink.innerHTML = docLinkHtml;\n",
              "          element.appendChild(docLink);\n",
              "        }\n",
              "      </script>\n",
              "    </div>\n",
              "  </div>\n",
              "  "
            ]
          },
          "metadata": {},
          "execution_count": 18
        },
        {
          "output_type": "stream",
          "name": "stdout",
          "text": [
            "Warning: total number of rows (40000) exceeds max_rows (20000). Limiting to first (20000) rows.\n"
          ]
        }
      ],
      "source": [
        "df"
      ]
    },
    {
      "cell_type": "code",
      "execution_count": null,
      "metadata": {
        "id": "N1l3bkbRAqtH"
      },
      "outputs": [],
      "source": [
        "df.to_csv(r\"tweet_emotions.preprocessed.txt\", header=None, index=None, sep=\" \")"
      ]
    },
    {
      "cell_type": "markdown",
      "metadata": {
        "id": "ZWsDQsHGEhfP"
      },
      "source": [
        "2. Split all tweets into two groups: the first 70% should go to the train part and another 30% – to the test."
      ]
    },
    {
      "cell_type": "code",
      "execution_count": null,
      "metadata": {
        "id": "au4xxD_4M1yd"
      },
      "outputs": [],
      "source": [
        "!head -n 28000 tweet_emotions.preprocessed.txt > tweet_emotions.preprocessed.train\n",
        "!tail -n 12000 tweet_emotions.preprocessed.txt > tweet_emotions.preprocessed.valid"
      ]
    },
    {
      "cell_type": "markdown",
      "metadata": {
        "id": "OH2FvO6IEyzk"
      },
      "source": [
        "3. Train classification model on train subset and predict on the test one"
      ]
    },
    {
      "cell_type": "code",
      "execution_count": null,
      "metadata": {
        "id": "HpNnWgmrNW6F"
      },
      "outputs": [],
      "source": [
        "model = fasttext.train_supervised(\"tweet_emotions.preprocessed.train\", epoch=9)"
      ]
    },
    {
      "cell_type": "code",
      "execution_count": null,
      "metadata": {
        "colab": {
          "base_uri": "https://localhost:8080/"
        },
        "id": "ju_mIRUiNW3y",
        "outputId": "564f4355-e5bb-49fe-e236-e1c02764f5f6"
      },
      "outputs": [
        {
          "output_type": "execute_result",
          "data": {
            "text/plain": [
              "(12000, 0.3555, 0.3555)"
            ]
          },
          "metadata": {},
          "execution_count": 100
        }
      ],
      "source": [
        "model.test(\"tweet_emotions.preprocessed.valid\")"
      ]
    },
    {
      "cell_type": "markdown",
      "metadata": {
        "id": "w0-duqwoHloe"
      },
      "source": [
        "4.  Calculate accuracy (percentage of guessed) emotions on test subset\n",
        "\n",
        "    Accuracy = Precision = Recall \n",
        "\n",
        "    ~0.35"
      ]
    },
    {
      "cell_type": "markdown",
      "metadata": {
        "id": "zEWB9Z-lHtRR"
      },
      "source": [
        "5.  Provide 10 random examples: text / label / predicted label"
      ]
    },
    {
      "cell_type": "code",
      "execution_count": null,
      "metadata": {
        "colab": {
          "base_uri": "https://localhost:8080/"
        },
        "id": "fqHzCX5ZINnV",
        "outputId": "58445544-662f-43f2-f4c8-ca7021b1d879"
      },
      "outputs": [
        {
          "output_type": "execute_result",
          "data": {
            "text/plain": [
              "(('__label__neutral',), array([0.39876428]))"
            ]
          },
          "metadata": {},
          "execution_count": 110
        }
      ],
      "source": [
        "#  happiness\n",
        "model.predict(\"had SUCH and AMAZING time last night, McFly were INCREDIBLE\")"
      ]
    },
    {
      "cell_type": "code",
      "execution_count": null,
      "metadata": {
        "colab": {
          "base_uri": "https://localhost:8080/"
        },
        "id": "cJkCRAURIoDv",
        "outputId": "516872f5-4ee3-4eea-a05b-1d4503e722a9"
      },
      "outputs": [
        {
          "output_type": "execute_result",
          "data": {
            "text/plain": [
              "(('__label__neutral',), array([0.29186368]))"
            ]
          },
          "metadata": {},
          "execution_count": 109
        }
      ],
      "source": [
        "# love\n",
        "model.predict(\"@mopedronin bullet train from tokyo    the gf and i have been visiting japan since thursday  vacation/sightseeing    gaijin godzilla\")"
      ]
    },
    {
      "cell_type": "code",
      "execution_count": null,
      "metadata": {
        "colab": {
          "base_uri": "https://localhost:8080/"
        },
        "id": "bwqcwoQyIwZg",
        "outputId": "1fb68629-bb8f-4d3e-a0c0-3574bf8e899b"
      },
      "outputs": [
        {
          "output_type": "execute_result",
          "data": {
            "text/plain": [
              "(('__label__happiness',), array([0.81420887]))"
            ]
          },
          "metadata": {},
          "execution_count": 108
        }
      ],
      "source": [
        "# fun\n",
        "model.predict(\"good morning/midday nation!  FORMULA ONE IN ONE HOUR!\")"
      ]
    },
    {
      "cell_type": "code",
      "execution_count": null,
      "metadata": {
        "colab": {
          "base_uri": "https://localhost:8080/"
        },
        "id": "_EhkZeYaI1rQ",
        "outputId": "e970f955-bed5-4622-b1ea-76da4d31021b"
      },
      "outputs": [
        {
          "output_type": "execute_result",
          "data": {
            "text/plain": [
              "(('__label__neutral',), array([0.83881623]))"
            ]
          },
          "metadata": {},
          "execution_count": 107
        }
      ],
      "source": [
        "# surprise\n",
        "model.predict(\"@BuddingGenius you dont say\")"
      ]
    },
    {
      "cell_type": "code",
      "execution_count": null,
      "metadata": {
        "colab": {
          "base_uri": "https://localhost:8080/"
        },
        "id": "-A24Ah7LI5a8",
        "outputId": "f91093cc-5de7-4fb2-b279-e5556db5c4da"
      },
      "outputs": [
        {
          "output_type": "execute_result",
          "data": {
            "text/plain": [
              "(('__label__neutral',), array([0.52797586]))"
            ]
          },
          "metadata": {},
          "execution_count": 106
        }
      ],
      "source": [
        "# neutral\n",
        "model.predict(\"revision...what fun...still I have thursday to do basically nothing\")"
      ]
    },
    {
      "cell_type": "code",
      "execution_count": null,
      "metadata": {
        "colab": {
          "base_uri": "https://localhost:8080/"
        },
        "id": "yH7pStXGJAKV",
        "outputId": "0be96a78-0c25-4b5b-82c1-a1708ba1cae5"
      },
      "outputs": [
        {
          "output_type": "execute_result",
          "data": {
            "text/plain": [
              "(('__label__worry',), array([0.4625048]))"
            ]
          },
          "metadata": {},
          "execution_count": 105
        }
      ],
      "source": [
        "# love\n",
        "model.predict(\"@JasonBradbury What brings you to our fair Island today?\")"
      ]
    },
    {
      "cell_type": "code",
      "execution_count": null,
      "metadata": {
        "colab": {
          "base_uri": "https://localhost:8080/"
        },
        "id": "-cSVERDdI_8B",
        "outputId": "45bd2b1f-4df5-4498-9eac-4c96c87c3554"
      },
      "outputs": [
        {
          "output_type": "execute_result",
          "data": {
            "text/plain": [
              "(('__label__happiness',), array([0.81490767]))"
            ]
          },
          "metadata": {},
          "execution_count": 104
        }
      ],
      "source": [
        "# fun\n",
        "model.predict(\"@skeetonmytwitts its slimy but its fun\")"
      ]
    },
    {
      "cell_type": "code",
      "execution_count": null,
      "metadata": {
        "colab": {
          "base_uri": "https://localhost:8080/"
        },
        "id": "gP5Yh-4yI_yp",
        "outputId": "33ad89e2-4a50-43df-d7bd-d674d26da282"
      },
      "outputs": [
        {
          "output_type": "execute_result",
          "data": {
            "text/plain": [
              "(('__label__neutral',), array([0.48468545]))"
            ]
          },
          "metadata": {},
          "execution_count": 103
        }
      ],
      "source": [
        "# neutral\n",
        "model.predict(\"@andyclemmensen whens the sway sway winner announced?\")"
      ]
    },
    {
      "cell_type": "code",
      "execution_count": null,
      "metadata": {
        "colab": {
          "base_uri": "https://localhost:8080/"
        },
        "id": "uow2kA_BI_ov",
        "outputId": "709cbff8-ab94-4b04-d275-5e00e3b28ed7"
      },
      "outputs": [
        {
          "output_type": "execute_result",
          "data": {
            "text/plain": [
              "(('__label__neutral',), array([0.53090721]))"
            ]
          },
          "metadata": {},
          "execution_count": 102
        }
      ],
      "source": [
        "# relief\n",
        "model.predict(\"flu or allergy??? ... Doesn't matter, just try to squeeze my Sundayyyy\")"
      ]
    },
    {
      "cell_type": "code",
      "execution_count": null,
      "metadata": {
        "colab": {
          "base_uri": "https://localhost:8080/"
        },
        "id": "ySXsy4yzI_em",
        "outputId": "8ec26663-9d5b-4266-822e-af017409f627"
      },
      "outputs": [
        {
          "output_type": "execute_result",
          "data": {
            "text/plain": [
              "(('__label__worry',), array([0.67537344]))"
            ]
          },
          "metadata": {},
          "execution_count": 101
        }
      ],
      "source": [
        "# neutral\n",
        "model.predict(\"Where did I leave my Citeh jersey?\")"
      ]
    }
  ],
  "metadata": {
    "colab": {
      "collapsed_sections": [],
      "name": "V. C. Lang'at - fasttext emotions classification.ipynb",
      "provenance": []
    },
    "kernelspec": {
      "display_name": "Python 3",
      "name": "python3"
    },
    "language_info": {
      "name": "python"
    }
  },
  "nbformat": 4,
  "nbformat_minor": 0
}