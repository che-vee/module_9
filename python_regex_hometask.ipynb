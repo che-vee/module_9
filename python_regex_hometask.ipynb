{
  "nbformat": 4,
  "nbformat_minor": 0,
  "metadata": {
    "colab": {
      "name": "V. C. Lang'at - Python regex hometask.ipynb",
      "provenance": [],
      "collapsed_sections": []
    },
    "kernelspec": {
      "name": "python3",
      "display_name": "Python 3"
    },
    "language_info": {
      "name": "python"
    }
  },
  "cells": [
    {
      "cell_type": "code",
      "execution_count": null,
      "metadata": {
        "id": "t-QEwmLEAq9z"
      },
      "outputs": [],
      "source": [
        "import re"
      ]
    },
    {
      "cell_type": "markdown",
      "source": [
        "1. Write a Python program to check that a string contains only a certain set of characters (in this case a-z, A-Z and 0-9).\n",
        "\n",
        "```\n",
        "print(is_allowed_specific_char(\"ABCDEFabcdef123450\"))  \n",
        "print(is_allowed_specific_char(\"*&%@#!}{\"))            \n",
        "\n",
        ">>> True\n",
        ">>> False\n",
        "```"
      ],
      "metadata": {
        "id": "14KqqB6kCyiJ"
      }
    },
    {
      "cell_type": "code",
      "source": [
        "def is_allowed_specific_char(string):\n",
        "    x = re.match(\"[A-Za-z0-9]\", string)\n",
        "    return bool(x)\n",
        "\n",
        "print(is_allowed_specific_char(\"ABCDEFabcdef123450\"))  \n",
        "print(is_allowed_specific_char(\"*&%@#!}{\"))   "
      ],
      "metadata": {
        "id": "6QlHApbjCwyb",
        "colab": {
          "base_uri": "https://localhost:8080/"
        },
        "outputId": "bd92479f-f257-4f07-ed64-fdc7496a4320"
      },
      "execution_count": null,
      "outputs": [
        {
          "output_type": "stream",
          "name": "stdout",
          "text": [
            "True\n",
            "False\n"
          ]
        }
      ]
    },
    {
      "cell_type": "markdown",
      "source": [
        "2. Write a Python program that matches a string that has an a followed by zero or more b's\n",
        "\n",
        "\n",
        "```\n",
        "print(text_match(\"ac\"))\n",
        "print(text_match(\"abc\"))\n",
        "print(text_match(\"a\"))\n",
        "print(text_match(\"ab\"))\n",
        "print(text_match(\"abb\"))\n",
        "\n",
        "Not matched!\n",
        "Not matched!\n",
        "Found a match!\n",
        "Found a match!\n",
        "Found a match!\n",
        "```"
      ],
      "metadata": {
        "id": "53zxBXQ7CwtM"
      }
    },
    {
      "cell_type": "code",
      "source": [
        "def text_match(string):\n",
        "    if re.search(\"a(b*)$\",  string):\n",
        "        return \"Found a match!\"\n",
        "    else:\n",
        "        return \"Not matched!\"\n",
        "        \n",
        "print(text_match(\"ac\"))\n",
        "print(text_match(\"abc\"))\n",
        "print(text_match(\"a\"))\n",
        "print(text_match(\"ab\"))\n",
        "print(text_match(\"abb\"))"
      ],
      "metadata": {
        "id": "YXYdf1E9CwoC",
        "colab": {
          "base_uri": "https://localhost:8080/"
        },
        "outputId": "0e5156e8-e646-4975-de2b-16f799e1330f"
      },
      "execution_count": null,
      "outputs": [
        {
          "output_type": "stream",
          "name": "stdout",
          "text": [
            "Not matched!\n",
            "Not matched!\n",
            "Found a match!\n",
            "Found a match!\n",
            "Found a match!\n"
          ]
        }
      ]
    },
    {
      "cell_type": "markdown",
      "source": [
        "3. Write a Python program that matches a string that has an a followed by one or more b's.\n",
        "\n",
        "```\n",
        "print(text_match(\"ab\"))\n",
        "print(text_match(\"abc\"))\n",
        "\n",
        ">>> Found a match!                                                                                                \n",
        ">>> Found a match!\n",
        "```"
      ],
      "metadata": {
        "id": "juXXRribCwjl"
      }
    },
    {
      "cell_type": "code",
      "source": [
        "def text_match(string):\n",
        "    if re.search(\"ab+\",  string):\n",
        "        return \"Found a match!\"\n",
        "    else:\n",
        "        return \"Not matched!\"\n",
        "\n",
        "print(text_match(\"ab\"))\n",
        "print(text_match(\"abc\"))"
      ],
      "metadata": {
        "id": "ZD59nMzkCweK",
        "colab": {
          "base_uri": "https://localhost:8080/"
        },
        "outputId": "9ad04f29-816a-490a-bcea-94f3b9f9210d"
      },
      "execution_count": null,
      "outputs": [
        {
          "output_type": "stream",
          "name": "stdout",
          "text": [
            "Found a match!\n",
            "Found a match!\n"
          ]
        }
      ]
    },
    {
      "cell_type": "markdown",
      "source": [
        "4. Write a Python program that matches a string that has an a followed by zero or one 'b'.\n",
        "\n",
        "\n",
        "```\n",
        "print(text_match(\"ab\"))\n",
        "print(text_match(\"abc\"))\n",
        "print(text_match(\"abbc\"))\n",
        "print(text_match(\"aabbc\"))\n",
        "\n",
        ">>> Found a match!\n",
        ">>> Found a match!\n",
        ">>> Found a match!\n",
        ">>> Found a match!\n",
        "```"
      ],
      "metadata": {
        "id": "gGtJskmcCwZf"
      }
    },
    {
      "cell_type": "code",
      "source": [
        "def text_match(string):\n",
        "    if re.search(\"ab*\",  string):\n",
        "        return \"Found a match!\"\n",
        "    else:\n",
        "        return \"Not matched!\"\n",
        "\n",
        "print(text_match(\"ab\"))\n",
        "print(text_match(\"abc\"))\n",
        "print(text_match(\"abbc\"))\n",
        "print(text_match(\"aabbc\"))"
      ],
      "metadata": {
        "id": "36_Ye3CmCwUV",
        "colab": {
          "base_uri": "https://localhost:8080/"
        },
        "outputId": "48002b4f-707b-45be-9667-28dea55419f3"
      },
      "execution_count": null,
      "outputs": [
        {
          "output_type": "stream",
          "name": "stdout",
          "text": [
            "Found a match!\n",
            "Found a match!\n",
            "Found a match!\n",
            "Found a match!\n"
          ]
        }
      ]
    },
    {
      "cell_type": "markdown",
      "source": [
        "5. Write a Python program that matches a string that has an a followed by three 'b'.\n",
        "\n",
        "```\n",
        "print(text_match(\"ab\"))\n",
        "print(text_match(\"aabbbbbc\"))\n",
        "\n",
        ">>> Not matched!\n",
        ">>> Found a match! \n",
        "```"
      ],
      "metadata": {
        "id": "2XRbLkamCwP4"
      }
    },
    {
      "cell_type": "code",
      "source": [
        "def text_match(string):\n",
        "    if re.search(\"ab{3}\",  string):\n",
        "        return \"Found a match!\"\n",
        "    else:\n",
        "        return \"Not matched!\"\n",
        "\n",
        "print(text_match(\"ab\"))\n",
        "print(text_match(\"aabbbbbc\"))"
      ],
      "metadata": {
        "id": "BRDKVUAsCwLr",
        "colab": {
          "base_uri": "https://localhost:8080/"
        },
        "outputId": "62eef554-b34f-4dce-f147-0e160513a7fa"
      },
      "execution_count": null,
      "outputs": [
        {
          "output_type": "stream",
          "name": "stdout",
          "text": [
            "Not matched!\n",
            "Found a match!\n"
          ]
        }
      ]
    },
    {
      "cell_type": "markdown",
      "source": [
        "6. Write a Python program that matches a string that has an a followed by two to three 'b'.\n",
        "\n",
        "```\n",
        "print(text_match(\"ab\"))\n",
        "print(text_match(\"aabbbbbc\"))\n",
        "\n",
        ">>> Not matched!\n",
        ">>> Found a match! \n",
        "```"
      ],
      "metadata": {
        "id": "g9_lkt80CwHc"
      }
    },
    {
      "cell_type": "code",
      "source": [
        "def text_match(string):\n",
        "    if re.search(\"ab{2,3}\",  string):\n",
        "        return \"Found a match!\"\n",
        "    else:\n",
        "        return \"Not matched!\"\n",
        "\n",
        "print(text_match(\"ab\"))\n",
        "print(text_match(\"aabbbbbc\"))"
      ],
      "metadata": {
        "id": "afPFKC8SCwCU",
        "colab": {
          "base_uri": "https://localhost:8080/"
        },
        "outputId": "1a285548-1c59-46c3-99d2-3bf0fc41d319"
      },
      "execution_count": null,
      "outputs": [
        {
          "output_type": "stream",
          "name": "stdout",
          "text": [
            "Not matched!\n",
            "Found a match!\n"
          ]
        }
      ]
    },
    {
      "cell_type": "markdown",
      "source": [
        "7. Write a Python program to find sequences of lowercase letters joined with a underscore.\n",
        "\n",
        "```\n",
        "print(text_match(\"aab_cbbbc\"))\n",
        "print(text_match(\"aab_Abbbc\"))\n",
        "print(text_match(\"Aaab_abbbc\"))\n",
        "\n",
        ">>> Found a match!                                                                                                \n",
        ">>> Not matched!                                                                                                  \n",
        ">>> Not matched!\n",
        "```"
      ],
      "metadata": {
        "id": "zPIt-__LCv-J"
      }
    },
    {
      "cell_type": "code",
      "source": [
        "def text_match(string):\n",
        "    if re.search(\"^[a-z]+_[a-z]\",  string):\n",
        "        return \"Found a match!\"\n",
        "    else:\n",
        "        return \"Not matched!\"\n",
        "\n",
        "print(text_match(\"aab_cbbbc\"))\n",
        "print(text_match(\"aab_Abbbc\"))\n",
        "print(text_match(\"Aaab_abbbc\"))       "
      ],
      "metadata": {
        "id": "HY42YB3_Cv4c",
        "colab": {
          "base_uri": "https://localhost:8080/"
        },
        "outputId": "52312e79-ee8e-4a02-b682-9554fedef31e"
      },
      "execution_count": null,
      "outputs": [
        {
          "output_type": "stream",
          "name": "stdout",
          "text": [
            "Found a match!\n",
            "Not matched!\n",
            "Not matched!\n"
          ]
        }
      ]
    },
    {
      "cell_type": "markdown",
      "source": [
        "8. Write a Python program to find the sequences of one upper case letter followed by lower case letters.\n",
        "\n",
        "```\n",
        "print(text_match(\"AaBbGg\"))\n",
        "print(text_match(\"Python\"))\n",
        "print(text_match(\"python\"))\n",
        "print(text_match(\"PYTHON\"))\n",
        "print(text_match(\"aA\"))\n",
        "print(text_match(\"Aa\"))\n",
        "\n",
        "Found a match!\n",
        "Found a match!\n",
        "Not matched!\n",
        "Not matched!\n",
        "Not matched!\n",
        "Found a match! \n",
        "```"
      ],
      "metadata": {
        "id": "s3piTNAnCvzg"
      }
    },
    {
      "cell_type": "code",
      "source": [
        "def text_match(string):\n",
        "    if re.search(\"^[A-Z]+[a-z]\",  string):\n",
        "        return \"Found a match!\"\n",
        "    else:\n",
        "        return \"Not matched!\"\n",
        "\n",
        "print(text_match(\"AaBbGg\"))\n",
        "print(text_match(\"Python\"))\n",
        "print(text_match(\"python\"))\n",
        "print(text_match(\"PYTHON\"))\n",
        "print(text_match(\"aA\"))\n",
        "print(text_match(\"Aa\"))"
      ],
      "metadata": {
        "id": "YISTh_khCvuM",
        "colab": {
          "base_uri": "https://localhost:8080/"
        },
        "outputId": "527bac80-4aa7-4df8-d9e7-3551895b6924"
      },
      "execution_count": null,
      "outputs": [
        {
          "output_type": "stream",
          "name": "stdout",
          "text": [
            "Found a match!\n",
            "Found a match!\n",
            "Not matched!\n",
            "Not matched!\n",
            "Not matched!\n",
            "Found a match!\n"
          ]
        }
      ]
    },
    {
      "cell_type": "markdown",
      "source": [
        "9. Write a Python program that matches a string that has an 'a' followed by anything, ending in 'b'.\n",
        "\n",
        "```\n",
        "print(text_match(\"aabbbbd\"))\n",
        "print(text_match(\"aabAbbbc\"))\n",
        "print(text_match(\"accddbbjjjb\"))\n",
        "\n",
        "Not matched!                                                                                                  \n",
        "Not matched!                                                                                                  \n",
        "Found a match!\n",
        "```"
      ],
      "metadata": {
        "id": "KaajICxnCvm4"
      }
    },
    {
      "cell_type": "code",
      "source": [
        "def text_match(string):\n",
        "    if re.search(\"a.*b$\",  string):\n",
        "        return \"Found a match!\"\n",
        "    else:\n",
        "        return \"Not matched!\"\n",
        "\n",
        "print(text_match(\"aabbbbd\"))\n",
        "print(text_match(\"aabAbbbc\"))\n",
        "print(text_match(\"accddbbjjjb\"))"
      ],
      "metadata": {
        "id": "qh2oWJTDCuuJ",
        "colab": {
          "base_uri": "https://localhost:8080/"
        },
        "outputId": "f2a07ee2-767a-4d1a-ca12-eabc3e95a36f"
      },
      "execution_count": null,
      "outputs": [
        {
          "output_type": "stream",
          "name": "stdout",
          "text": [
            "Not matched!\n",
            "Not matched!\n",
            "Found a match!\n"
          ]
        }
      ]
    },
    {
      "cell_type": "markdown",
      "source": [
        "10. Write a Python program that matches a word at the beginning of a string.\n",
        "\n",
        "```\n",
        "print(text_match(\"The quick brown fox jumps over the lazy dog.\"))\n",
        "print(text_match(\" The quick brown fox jumps over the lazy dog.\"))\n",
        "\n",
        "Found a match!                                                                                                \n",
        "Not matched!\n",
        "```"
      ],
      "metadata": {
        "id": "gTgOXyEtCuUE"
      }
    },
    {
      "cell_type": "code",
      "source": [
        "def text_match(string):\n",
        "    if re.search(\"^\\w\",  string):\n",
        "        return \"Found a match!\"\n",
        "    else:\n",
        "        return \"Not matched!\"\n",
        "\n",
        "print(text_match(\"The quick brown fox jumps over the lazy dog.\"))\n",
        "print(text_match(\" The quick brown fox jumps over the lazy dog.\"))"
      ],
      "metadata": {
        "id": "re5uGtv1CuMR",
        "colab": {
          "base_uri": "https://localhost:8080/"
        },
        "outputId": "36f46043-f953-4961-f72d-f2aa2e9dc7d0"
      },
      "execution_count": null,
      "outputs": [
        {
          "output_type": "stream",
          "name": "stdout",
          "text": [
            "Found a match!\n",
            "Not matched!\n"
          ]
        }
      ]
    },
    {
      "cell_type": "markdown",
      "source": [
        "11. Write a Python program that matches a word at the end of string, with optional punctuation.\n",
        "\n",
        "```\n",
        "print(text_match(\"The quick brown fox jumps over the lazy dog.\"))\n",
        "print(text_match(\"The quick brown fox jumps over the lazy dog. \"))\n",
        "print(text_match(\"The quick brown fox jumps over the lazy dog \"))\n",
        "\n",
        "Found a match!                                                                                                \n",
        "Not matched!                                                                                                  \n",
        "Not matched!\n",
        "```"
      ],
      "metadata": {
        "id": "fWDHq_OUFG0s"
      }
    },
    {
      "cell_type": "code",
      "source": [
        "def text_match(string):\n",
        "    if re.search(\"\\w+[?.!]$|\\w+$\",  string):\n",
        "        return \"Found a match!\"\n",
        "    else:\n",
        "        return \"Not matched!\"\n",
        "\n",
        "print(text_match(\"The quick brown fox jumps over the lazy dog.\"))\n",
        "print(text_match(\"The quick brown fox jumps over the lazy dog. \"))\n",
        "print(text_match(\"The quick brown fox jumps over the lazy dog \"))\n",
        "print(text_match(\"The quick brown fox jumps over the lazy dog\"))"
      ],
      "metadata": {
        "id": "NCVF9rzQHxay",
        "colab": {
          "base_uri": "https://localhost:8080/"
        },
        "outputId": "26e65701-5cfe-4d03-fbe2-66e215a8e90a"
      },
      "execution_count": null,
      "outputs": [
        {
          "output_type": "stream",
          "name": "stdout",
          "text": [
            "Found a match!\n",
            "Not matched!\n",
            "Not matched!\n",
            "Found a match!\n"
          ]
        }
      ]
    },
    {
      "cell_type": "markdown",
      "source": [
        "12. Write a Python program that matches a word containing 'y'.\n",
        "\n",
        "```\n",
        "print(text_match(\"The quick brown fox jumps over the lazy dog.\"))\n",
        "print(text_match(\"Hello world.\"))\n",
        "\n",
        "Found a match!                                                                                                \n",
        "Not matched!\n",
        "```"
      ],
      "metadata": {
        "id": "aUKL22vNFGy2"
      }
    },
    {
      "cell_type": "code",
      "source": [
        "def text_match(string):\n",
        "    if re.search(\"y\",  string):\n",
        "        return \"Found a match!\"\n",
        "    else:\n",
        "        return \"Not matched!\"\n",
        "\n",
        "print(text_match(\"The quick brown fox jumps over the lazy dog.\"))\n",
        "print(text_match(\"Hello world.\"))"
      ],
      "metadata": {
        "id": "kXsy5GZfHyCo",
        "colab": {
          "base_uri": "https://localhost:8080/"
        },
        "outputId": "627b0b1a-3abd-42c5-9974-967affd9c14d"
      },
      "execution_count": null,
      "outputs": [
        {
          "output_type": "stream",
          "name": "stdout",
          "text": [
            "Found a match!\n",
            "Not matched!\n"
          ]
        }
      ]
    },
    {
      "cell_type": "markdown",
      "source": [
        "13. Write a Python program that matches a word containing 'y', not at the start or end of the word.\n",
        "\n",
        "```\n",
        "print(text_match(\"The quick brown fox jumps over the lazy dog.\"))\n",
        "print(text_match(\"Python Exercises.\"))\n",
        "\n",
        "Not matched!                   \n",
        "Not matched!\n",
        "```"
      ],
      "metadata": {
        "id": "2VW3wkCqFGwg"
      }
    },
    {
      "cell_type": "code",
      "source": [
        "def text_match(string):\n",
        "    if re.search(\"\\By\\B\",  string):\n",
        "        return \"Found a match!\"\n",
        "    else:\n",
        "        return \"Not matched!\"\n",
        "\n",
        "print(text_match(\"The quick brown fox jumps over the lazy dog.\"))\n",
        "print(text_match(\"Python_Exercises_1\"))"
      ],
      "metadata": {
        "id": "CekczKZRHyfd",
        "colab": {
          "base_uri": "https://localhost:8080/"
        },
        "outputId": "2d6d07b0-0933-4ed3-84e4-264143a4b928"
      },
      "execution_count": null,
      "outputs": [
        {
          "output_type": "stream",
          "name": "stdout",
          "text": [
            "Not matched!\n",
            "Found a match!\n"
          ]
        }
      ]
    },
    {
      "cell_type": "markdown",
      "source": [
        "14. Write a Python program to match a string that contains only upper and lowercase letters, numbers, and underscores.\n",
        "\n",
        "\n",
        "```\n",
        "print(text_match(\"The quick brown fox jumps over the lazy dog.\"))\n",
        "print(text_match(\"Python_Exercises_1\"))\n",
        "\n",
        "Not matched!                                                                                                  \n",
        "Found a match!\n",
        "```"
      ],
      "metadata": {
        "id": "Yh0WcPn_FGuV"
      }
    },
    {
      "cell_type": "code",
      "source": [
        "def text_match(string):\n",
        "    if re.search(\"[A-Za-z0-9_]+$\",  string):\n",
        "        return \"Found a match!\"\n",
        "    else:\n",
        "        return \"Not matched!\"\n",
        "\n",
        "print(text_match(\"The quick brown fox jumps over the lazy dog.\"))\n",
        "print(text_match(\"Python_Exercises_1\"))"
      ],
      "metadata": {
        "id": "ug0sH0ljHy7H",
        "colab": {
          "base_uri": "https://localhost:8080/"
        },
        "outputId": "8f4277ee-03ec-4d27-9c05-69d64132b50c"
      },
      "execution_count": null,
      "outputs": [
        {
          "output_type": "stream",
          "name": "stdout",
          "text": [
            "Not matched!\n",
            "Found a match!\n"
          ]
        }
      ]
    },
    {
      "cell_type": "markdown",
      "source": [
        "15. Write a Python program where a string will start with a specific number.\n",
        "\n",
        "```\n",
        "print(match_num('5-2345861'))\n",
        "print(match_num('6-2345861'))\n",
        "\n",
        "True                                                                                                          \n",
        "False\n",
        "```"
      ],
      "metadata": {
        "id": "xmudzbkCFGsO"
      }
    },
    {
      "cell_type": "code",
      "source": [
        "def match_num(string):\n",
        "    x = re.match(\"^5\", string)\n",
        "    return bool(x)\n",
        "\n",
        "print(match_num('5-2345861'))\n",
        "print(match_num('6-2345861'))"
      ],
      "metadata": {
        "id": "_hv72aPNHzVI",
        "colab": {
          "base_uri": "https://localhost:8080/"
        },
        "outputId": "163d00f0-46a8-4020-b97e-17613e5d2512"
      },
      "execution_count": null,
      "outputs": [
        {
          "output_type": "stream",
          "name": "stdout",
          "text": [
            "True\n",
            "False\n"
          ]
        }
      ]
    },
    {
      "cell_type": "markdown",
      "source": [
        "16. Write a Python program to remove leading zeros from an IP address.\n",
        "\n",
        "```\n",
        "remove_leading(\"216.08.094.196\")\n",
        "\n",
        "216.8.94.196 \n",
        "```"
      ],
      "metadata": {
        "id": "bm40wrVdFGp4"
      }
    },
    {
      "cell_type": "code",
      "source": [
        "def remove_leading(ip_address):\n",
        "    x = re.sub(\"0\", \"\", ip_address)\n",
        "    print(x)\n",
        "\n",
        "remove_leading(\"216.08.094.196\")"
      ],
      "metadata": {
        "id": "E6ub5Rd8Hzu7",
        "colab": {
          "base_uri": "https://localhost:8080/"
        },
        "outputId": "3016efbb-3383-4360-a748-3eb1b6aed9ce"
      },
      "execution_count": null,
      "outputs": [
        {
          "output_type": "stream",
          "name": "stdout",
          "text": [
            "216.8.94.196\n"
          ]
        }
      ]
    },
    {
      "cell_type": "markdown",
      "source": [
        "17. Write a Python program to check for a number at the end of a string.\n",
        "\n",
        "```\n",
        "print(end_num('abcdef'))\n",
        "print(end_num('abcdef6'))\n",
        "\n",
        "False                                                                                                         \n",
        "True\n",
        "```"
      ],
      "metadata": {
        "id": "VTFZjMqDFGnx"
      }
    },
    {
      "cell_type": "code",
      "source": [
        "from typing_extensions import TypeVarTuple\n",
        "def end_num(string):\n",
        "    if re.search(\"[0-9]$\",  string):\n",
        "        return True\n",
        "    else:\n",
        "        return False\n",
        "\n",
        "print(end_num('abcdef'))\n",
        "print(end_num('abcdef6'))"
      ],
      "metadata": {
        "id": "rrOm5T-BH0Hl",
        "colab": {
          "base_uri": "https://localhost:8080/"
        },
        "outputId": "01e3ed74-b89a-4e21-f3a2-ff19f667b3cb"
      },
      "execution_count": null,
      "outputs": [
        {
          "output_type": "stream",
          "name": "stdout",
          "text": [
            "False\n",
            "True\n"
          ]
        }
      ]
    },
    {
      "cell_type": "markdown",
      "source": [
        "18. Write a Python program to search the numbers (0-9) of length between 1 to 3 in a given string: \"Exercises number 1, 12, 13, and 345 are important\"\n",
        "\n",
        "Output:\n",
        "```\n",
        "3                                                                                       \n",
        "1                                                                                                             \n",
        "12                                                                                                            \n",
        "13                                                                                                            \n",
        "345\n",
        "```"
      ],
      "metadata": {
        "id": "LrdALBA6FGjU"
      }
    },
    {
      "cell_type": "code",
      "source": [
        "string = \"Exercises number 1, 12, 13, and 345 are important\"\n",
        "\n",
        "nums = re.findall(\"[0-9]{1,3}\", string)\n",
        "\n",
        "for i in nums:\n",
        "  print (i)"
      ],
      "metadata": {
        "id": "aoS6rj0uH1dz",
        "colab": {
          "base_uri": "https://localhost:8080/"
        },
        "outputId": "37778466-3c50-4de6-ba9e-d373915eb2a1"
      },
      "execution_count": null,
      "outputs": [
        {
          "output_type": "stream",
          "name": "stdout",
          "text": [
            "1\n",
            "12\n",
            "13\n",
            "345\n"
          ]
        }
      ]
    },
    {
      "cell_type": "markdown",
      "source": [
        "19. Write a Python program to search some literals strings in a string.\n",
        "Sample text : 'The quick brown fox jumps over the lazy dog.'\n",
        "Searched words : 'fox', 'dog', 'horse'\n",
        "\n",
        "Sample Output:\n",
        "```\n",
        "Searching for \"fox\" in \"The quick brown fox jumps over the lazy dog.\" ->                                      \n",
        "Matched!                                                                                                      \n",
        "Searching for \"dog\" in \"The quick brown fox jumps over the lazy dog.\" ->                                      \n",
        "Matched!                                                                                                      \n",
        "Searching for \"horse\" in \"The quick brown fox jumps over the lazy dog.\" ->                                    \n",
        "Not Matched!\n",
        "```"
      ],
      "metadata": {
        "id": "iJhFULpRFGhN"
      }
    },
    {
      "cell_type": "code",
      "source": [
        "text = \"The quick brown fox jumps over the lazy dog.\"\n",
        "words = [\"fox\", \"dog\", \"horse\"]\n",
        "\n",
        "for word in words:\n",
        "    if re.search(word, text):\n",
        "        print(\"Matched\")\n",
        "    else:\n",
        "        print(\"Not Matched\")\n"
      ],
      "metadata": {
        "id": "C0CJntILH2S_",
        "colab": {
          "base_uri": "https://localhost:8080/"
        },
        "outputId": "613b3267-2d4e-45bd-fb2b-f01ff52991ef"
      },
      "execution_count": null,
      "outputs": [
        {
          "output_type": "stream",
          "name": "stdout",
          "text": [
            "Matched\n",
            "Matched\n",
            "Not Matched\n"
          ]
        }
      ]
    },
    {
      "cell_type": "markdown",
      "source": [
        "20. Write a Python program to search a literals string in a string and also find the location within the original string where the pattern occurs.\n",
        "\n",
        "Sample text : 'The quick brown fox jumps over the lazy dog.'\n",
        "Searched words : 'fox'"
      ],
      "metadata": {
        "id": "yP6rsgFeFGe2"
      }
    },
    {
      "cell_type": "code",
      "source": [
        "text = \"The quick brown fox jumps over the lazy dog.\"\n",
        "\n",
        "if re.search(\"fox\", text):\n",
        "  print(\"Starting index:\", re.search(\"fox\", text).start())\n",
        "  print(\"Ending index:\", re.search(\"fox\", text).end())"
      ],
      "metadata": {
        "id": "ylVsS9F6H24u",
        "colab": {
          "base_uri": "https://localhost:8080/"
        },
        "outputId": "863b32a3-be5a-4ef4-e8dd-4e85355c8e05"
      },
      "execution_count": null,
      "outputs": [
        {
          "output_type": "stream",
          "name": "stdout",
          "text": [
            "Starting index: 16\n",
            "Ending index: 19\n"
          ]
        }
      ]
    },
    {
      "cell_type": "markdown",
      "source": [
        "\n",
        "21. Write a Python program to find the substrings within a string.\n",
        "\n",
        "Sample text :\n",
        "\n",
        "'Python exercises, PHP exercises, C# exercises'\n",
        "\n",
        "Pattern :\n",
        "\n",
        "'exercises'\n",
        "\n",
        "Note: There are two instances of exercises in the input string.\n",
        "\n",
        "\n",
        "```\n",
        "Sample Output:\n",
        "\n",
        "Found \"exercises\"                                                                                             \n",
        "Found \"exercises\"                                                                                             \n",
        "Found \"exercises\"\n",
        "```"
      ],
      "metadata": {
        "id": "mhWO75rHFGcR"
      }
    },
    {
      "cell_type": "code",
      "source": [
        "string = \"Python exercises, PHP exercises, C# exercises\"\n",
        "\n",
        "for i in re.findall(\"exercises\", string):\n",
        "    print(f\"Found \\\"{i}\\\"\")\n"
      ],
      "metadata": {
        "id": "SMG8zpCdH3w_",
        "colab": {
          "base_uri": "https://localhost:8080/"
        },
        "outputId": "ef59fcd6-088f-4bdc-d475-246533e0312e"
      },
      "execution_count": null,
      "outputs": [
        {
          "output_type": "stream",
          "name": "stdout",
          "text": [
            "Found \"exercises\"\n",
            "Found \"exercises\"\n",
            "Found \"exercises\"\n"
          ]
        }
      ]
    },
    {
      "cell_type": "markdown",
      "source": [
        "22. Write a Python program to find the occurrence and position of the substrings within a string.\n",
        "\n",
        "```\n",
        "Sample Output:\n",
        "\n",
        "Found \"exercises\" at 7:16                                                                                     \n",
        "Found \"exercises\" at 22:31                                                                                    \n",
        "Found \"exercises\" at 36:45\n",
        "```"
      ],
      "metadata": {
        "id": "FJlOPGu8FGaa"
      }
    },
    {
      "cell_type": "code",
      "source": [
        "string = \"Python exercises, PHP exercises, C# exercises\"\n",
        "\n",
        "for i in re.finditer(\"exercises\", string):\n",
        "    print(f\"Found \\\"{i.group()}\\\" at {i.start()}:{i.end()}\")\n"
      ],
      "metadata": {
        "id": "CncL9sn-H4Q3",
        "colab": {
          "base_uri": "https://localhost:8080/"
        },
        "outputId": "7337828f-b3c6-4157-8f76-b51024eee8c3"
      },
      "execution_count": null,
      "outputs": [
        {
          "output_type": "stream",
          "name": "stdout",
          "text": [
            "Found \"exercises\" at 7:16\n",
            "Found \"exercises\" at 22:31\n",
            "Found \"exercises\" at 36:45\n"
          ]
        }
      ]
    },
    {
      "cell_type": "markdown",
      "source": [
        "23. Write a Python program to replace whitespaces with an underscore and vice versa.\n",
        "\n",
        "\n",
        "```\n",
        "Sample input: \n",
        "'Python Exercises'\n",
        "\n",
        "Sample Output:\n",
        "Python_Exercises                              \n",
        "Python Exercises\n",
        "```"
      ],
      "metadata": {
        "id": "w4hybA8MFGYE"
      }
    },
    {
      "cell_type": "code",
      "source": [
        "string = \"Python Exercises\"\n",
        "\n",
        "string = re.sub(\" \", \"_\", string)\n",
        "print(string)\n",
        "string = re.sub(\"_\", \" \", string)\n",
        "print(string)"
      ],
      "metadata": {
        "id": "iEfw6ZHiH4qZ",
        "colab": {
          "base_uri": "https://localhost:8080/"
        },
        "outputId": "c40d7399-7f34-44e3-f39e-7acea597b713"
      },
      "execution_count": null,
      "outputs": [
        {
          "output_type": "stream",
          "name": "stdout",
          "text": [
            "Python_Exercises\n",
            "Python Exercises\n"
          ]
        }
      ]
    },
    {
      "cell_type": "markdown",
      "source": [
        "24. Write a Python program to extract year, month and date from an url.\n",
        "\n",
        "```\n",
        "Sample input:\n",
        "\"https://www.washingtonpost.com/news/football-insider/wp/2016/09/02/odell-beckhams-fame-rests-on-one-stupid-little-ball-josh-norman-tells-author/\"\n",
        "\n",
        "Sample Output:\n",
        "[('2016', '09', '02')] \n",
        "```\n"
      ],
      "metadata": {
        "id": "7AW5c11EFGV9"
      }
    },
    {
      "cell_type": "code",
      "source": [
        "string = \"https://www.washingtonpost.com/news/football-insider/wp/2016/09/02/odell-beckhams-fame-rests-on-one-stupid-little-ball-josh-norman-tells-author/\"\n",
        "\n",
        "print(re.findall(\"/(\\d{2,4})/(\\d{1,2})/(\\d{1,2})/\", string))"
      ],
      "metadata": {
        "id": "wkYt8TVNH5Gx",
        "colab": {
          "base_uri": "https://localhost:8080/"
        },
        "outputId": "73016ab9-cc4d-425c-efb2-69ad8e2d09aa"
      },
      "execution_count": null,
      "outputs": [
        {
          "output_type": "stream",
          "name": "stdout",
          "text": [
            "[('2016', '09', '02')]\n"
          ]
        }
      ]
    },
    {
      "cell_type": "markdown",
      "source": [
        "25. Write a Python program to convert a date of yyyy-mm-dd format to dd-mm-yyyy format.\n",
        "\n",
        "```\n",
        "Original date in YYY-MM-DD Format:  2026-01-02                                                                \n",
        "New date in DD-MM-YYYY Format:  02-01-2026 \n",
        "```"
      ],
      "metadata": {
        "id": "ntTYrnyrFGT3"
      }
    },
    {
      "cell_type": "code",
      "source": [
        "date_string = \"2026-01-02\"\n",
        "\n",
        "print(re.sub(r\"(\\d{2,4})-(\\d{1,2})-(\\d{1,2})\", \"\\\\3-\\\\2-\\\\1\", date_string))"
      ],
      "metadata": {
        "id": "5SE1GCULH5xa",
        "colab": {
          "base_uri": "https://localhost:8080/"
        },
        "outputId": "c96ff6eb-f134-45e1-e98d-de39d8703820"
      },
      "execution_count": null,
      "outputs": [
        {
          "output_type": "stream",
          "name": "stdout",
          "text": [
            "02-01-2026\n"
          ]
        }
      ]
    },
    {
      "cell_type": "markdown",
      "source": [
        "26. Write a Python program to match if two words from a list of words starting with letter 'P'.\n",
        "\n",
        "```\n",
        "words = [\"Python PHP\", \"Java JavaScript\", \"c c++\"]\n",
        "\n",
        "Sample Output:\n",
        "('Python', 'PHP')\n",
        "```"
      ],
      "metadata": {
        "id": "sw7uuqPfFGRi"
      }
    },
    {
      "cell_type": "code",
      "source": [
        "words = [\"Python PHP\", \"Java JavaScript\", \"c c++\"]\n",
        "\n",
        "for word in words:\n",
        "    if re.search(\"(P\\w+)\\W(P\\w+)\", word):\n",
        "        print(word.split())\n"
      ],
      "metadata": {
        "id": "38JYmcvVH6Og",
        "colab": {
          "base_uri": "https://localhost:8080/"
        },
        "outputId": "128d1f0c-4976-406f-f1dc-2a8fc02ca4ac"
      },
      "execution_count": null,
      "outputs": [
        {
          "output_type": "stream",
          "name": "stdout",
          "text": [
            "['Python', 'PHP']\n"
          ]
        }
      ]
    },
    {
      "cell_type": "markdown",
      "source": [
        "27. Write a Python program to separate and print the numbers of a given string.\n",
        "\n",
        "\n",
        "```\n",
        "text = \"Ten 10, Twenty 20, Thirty 30\"\n",
        "\n",
        "Sample Output:\n",
        "10                                                                                                            \n",
        "20                                                                                                            \n",
        "30\n",
        "```"
      ],
      "metadata": {
        "id": "rVWPeMouFGPs"
      }
    },
    {
      "cell_type": "code",
      "source": [
        "text = \"Ten 10, Twenty 20, Thirty 30\"\n",
        "\n",
        "for i in re.findall(\"\\d+\", text):\n",
        "    print(i)"
      ],
      "metadata": {
        "id": "Hy13upfRH607",
        "colab": {
          "base_uri": "https://localhost:8080/"
        },
        "outputId": "0cc473af-30a6-431a-aa0f-1d363cf5c396"
      },
      "execution_count": null,
      "outputs": [
        {
          "output_type": "stream",
          "name": "stdout",
          "text": [
            "10\n",
            "20\n",
            "30\n"
          ]
        }
      ]
    },
    {
      "cell_type": "markdown",
      "source": [
        "28. Write a Python program to find all words starting with 'a' or 'e' in a given string.\n",
        "\n",
        "```\n",
        "text = \"The following example creates an ArrayList with a capacity of 50 elements. Four elements are then added to the ArrayList and the ArrayList is trimmed accordingly.\"\n",
        "\n",
        "Sample Output:\n",
        "\n",
        "['example', 'eates', 'an', 'ayList', 'apacity', 'elements', 'elements', 'are', 'en', 'added', 'ayList', 'and',\n",
        " 'ayList', 'ed', 'accordingly']  \n",
        "```\n"
      ],
      "metadata": {
        "id": "GqIGDtgkFGNW"
      }
    },
    {
      "cell_type": "code",
      "source": [
        "text = \"The following example creates an ArrayList with a capacity of 50 elements. Four elements are then added to the ArrayList and the ArrayList is trimmed accordingly.\"\n",
        "\n",
        "print(re.findall(\"[ae]\\w+\", text))\n"
      ],
      "metadata": {
        "id": "8ssNYa-jH7SO",
        "colab": {
          "base_uri": "https://localhost:8080/"
        },
        "outputId": "71e9e812-83b8-4bb7-d46d-1d062a175804"
      },
      "execution_count": null,
      "outputs": [
        {
          "output_type": "stream",
          "name": "stdout",
          "text": [
            "['example', 'eates', 'an', 'ayList', 'apacity', 'elements', 'elements', 'are', 'en', 'added', 'ayList', 'and', 'ayList', 'ed', 'accordingly']\n"
          ]
        }
      ]
    },
    {
      "cell_type": "markdown",
      "source": [
        "29. Write a Python program to separate and print the numbers and their position of a given string.\n",
        "\n",
        "\n",
        "```\n",
        "text = \"The following example creates an ArrayList with a capacity of 50 elements. Four elements are then added to the ArrayList and the ArrayList is trimmed accordingly.\"\n",
        "\n",
        "Sample Output:\n",
        "\n",
        "50                                                                                                            \n",
        "Index position: 62 \n",
        "```"
      ],
      "metadata": {
        "id": "LGu7R5RWFGLL"
      }
    },
    {
      "cell_type": "code",
      "source": [
        "text = \"The following example creates an ArrayList with a capacity of 50 elements. Four elements are then added to the ArrayList and the ArrayList is trimmed accordingly.\"\n",
        "\n",
        "for i in re.finditer(\"\\d+\", text):\n",
        "  print(i.group())\n",
        "  print(f\"Index position: {i.start()}\")\n"
      ],
      "metadata": {
        "id": "YJq6-5M7H7t4",
        "colab": {
          "base_uri": "https://localhost:8080/"
        },
        "outputId": "e372a7fa-a5a5-43a0-9cad-aa04961c469b"
      },
      "execution_count": null,
      "outputs": [
        {
          "output_type": "stream",
          "name": "stdout",
          "text": [
            "50\n",
            "Index position: 62\n"
          ]
        }
      ]
    },
    {
      "cell_type": "markdown",
      "source": [
        "30. Write a Python program to abbreviate 'Road' as 'Rd.' in a given string.\n",
        "\n",
        "```\n",
        "street = '21 Ramkrishna Road'\n",
        "\n",
        "Sample Output:\n",
        "\n",
        "21 Ramkrishna Rd.  \n",
        "```"
      ],
      "metadata": {
        "id": "nML9FjZoFGJS"
      }
    },
    {
      "cell_type": "code",
      "source": [
        "street = '21 Ramkrishna Road'\n",
        "\n",
        "print(re.sub(\"Road\", \"Rd.\", street))"
      ],
      "metadata": {
        "id": "5p5MvuKLH8Sc",
        "colab": {
          "base_uri": "https://localhost:8080/"
        },
        "outputId": "7bd2871b-0be0-4a52-bc30-f830066074bb"
      },
      "execution_count": null,
      "outputs": [
        {
          "output_type": "stream",
          "name": "stdout",
          "text": [
            "21 Ramkrishna Rd.\n"
          ]
        }
      ]
    },
    {
      "cell_type": "markdown",
      "source": [
        "31. Write a Python program to replace all occurrences of space, comma, or dot with a colon.\n",
        "\n",
        "```\n",
        "text = 'Python Exercises, PHP exercises.'\n",
        "\n",
        "Sample Output:\n",
        "\n",
        "Python:Exercises::PHP:exercises:  \n",
        "```"
      ],
      "metadata": {
        "id": "NZjW6q8mFGG9"
      }
    },
    {
      "cell_type": "code",
      "source": [
        "text = 'Python Exercises, PHP exercises.'\n",
        "\n",
        "print(re.sub(\"[ ,.]\", \":\", text))"
      ],
      "metadata": {
        "id": "nDW7iXOqH8vw",
        "colab": {
          "base_uri": "https://localhost:8080/"
        },
        "outputId": "2c9e311e-9dd6-49c0-82d2-4e4282af7f05"
      },
      "execution_count": null,
      "outputs": [
        {
          "output_type": "stream",
          "name": "stdout",
          "text": [
            "Python:Exercises::PHP:exercises:\n"
          ]
        }
      ]
    },
    {
      "cell_type": "markdown",
      "source": [
        "32. Write a Python program to replace maximum 2 occurrences of space, comma, or dot with a colon.\n",
        "\n",
        "```\n",
        "text = 'Python Exercises, PHP exercises.'\n",
        "\n",
        "Sample Output:\n",
        "\n",
        "Python:Exercises: PHP exercises. \n",
        "```"
      ],
      "metadata": {
        "id": "w7-JJj5cFGE2"
      }
    },
    {
      "cell_type": "code",
      "source": [
        "text = 'Python Exercises, PHP exercises.'\n",
        "\n",
        "print(re.sub(\"[ ,.]\", \":\", text, 2))"
      ],
      "metadata": {
        "id": "2UYSbF-kH9IX",
        "colab": {
          "base_uri": "https://localhost:8080/"
        },
        "outputId": "d0a2acf4-e24e-40cd-effc-4c9d92bdca2a"
      },
      "execution_count": null,
      "outputs": [
        {
          "output_type": "stream",
          "name": "stdout",
          "text": [
            "Python:Exercises: PHP exercises.\n"
          ]
        }
      ]
    },
    {
      "cell_type": "markdown",
      "source": [
        "33. Write a Python program to find all five characters long word in a string.\n",
        "\n",
        "```\n",
        "text = 'The quick brown fox jumps over the lazy dog.'\n",
        "\n",
        "Sample Output:\n",
        "\n",
        "['quick', 'brown', 'jumps'] \n",
        "```"
      ],
      "metadata": {
        "id": "cyR435vxFGCf"
      }
    },
    {
      "cell_type": "code",
      "source": [
        "text = 'The quick brown fox jumps over the lazy dog.'\n",
        "\n",
        "print(re.findall(\"\\w{5}\", text))"
      ],
      "metadata": {
        "id": "fxbpcHO4H9g9",
        "colab": {
          "base_uri": "https://localhost:8080/"
        },
        "outputId": "6da49e63-78e3-4873-e466-45d8d7fc1153"
      },
      "execution_count": null,
      "outputs": [
        {
          "output_type": "stream",
          "name": "stdout",
          "text": [
            "['quick', 'brown', 'jumps']\n"
          ]
        }
      ]
    },
    {
      "cell_type": "markdown",
      "source": [
        "34. Write a Python program to find all three, four, five characters long words in a string.\n",
        "\n",
        "```\n",
        "text = 'The quick brown fox jumps over the lazy dog.'\n",
        "\n",
        "Sample Output:\n",
        "\n",
        "['The', 'quick', 'brown', 'fox', 'jumps', 'over', 'the', 'lazy', 'dog']  \n",
        "```"
      ],
      "metadata": {
        "id": "m2jHKNc7FGAK"
      }
    },
    {
      "cell_type": "code",
      "source": [
        "text = 'The quick brown fox jumps over the lazy dog.'\n",
        "\n",
        "print(re.findall(\"\\w{3,5}\", text))"
      ],
      "metadata": {
        "id": "oCAqeUWwH99J",
        "colab": {
          "base_uri": "https://localhost:8080/"
        },
        "outputId": "e7dde903-3d2c-444d-b207-42332029ca82"
      },
      "execution_count": null,
      "outputs": [
        {
          "output_type": "stream",
          "name": "stdout",
          "text": [
            "['The', 'quick', 'brown', 'fox', 'jumps', 'over', 'the', 'lazy', 'dog']\n"
          ]
        }
      ]
    },
    {
      "cell_type": "markdown",
      "source": [
        "35. Write a Python program to find all words which are at least 4 characters long in a string.\n",
        "\n",
        "```\n",
        "text = 'The quick brown fox jumps over the lazy dog.'\n",
        "\n",
        "Sample Output:\n",
        "\n",
        "['quick', 'brown', 'jumps', 'over', 'lazy'] \n",
        "```"
      ],
      "metadata": {
        "id": "EVbh0BjxFF90"
      }
    },
    {
      "cell_type": "code",
      "source": [
        "text = 'The quick brown fox jumps over the lazy dog.'\n",
        "\n",
        "print(re.findall(\"\\w{4,}\", text))"
      ],
      "metadata": {
        "id": "Rz5_423FH-lK",
        "colab": {
          "base_uri": "https://localhost:8080/"
        },
        "outputId": "955594bb-f63a-472c-b758-57fe434afc8d"
      },
      "execution_count": null,
      "outputs": [
        {
          "output_type": "stream",
          "name": "stdout",
          "text": [
            "['quick', 'brown', 'jumps', 'over', 'lazy']\n"
          ]
        }
      ]
    },
    {
      "cell_type": "markdown",
      "source": [
        "36. Write a python program to convert camel case string to snake case string.\n",
        "\n",
        "```\n",
        "print(camel_to_snake('PythonExercises'))\n",
        "\n",
        "Sample Output:\n",
        "\n",
        "python_exercises  \n",
        "```"
      ],
      "metadata": {
        "id": "8j7fH8OoHoLP"
      }
    },
    {
      "cell_type": "code",
      "source": [
        "def camel_to_snake(string):\n",
        "    return re.sub(\"(?!^)([A-Z])\", r\"_\\1\", string).lower()\n",
        "\n",
        "print(camel_to_snake('PythonExercises'))"
      ],
      "metadata": {
        "id": "SZ8unALfH-_s",
        "colab": {
          "base_uri": "https://localhost:8080/"
        },
        "outputId": "f82e7eaa-4411-4a60-81a6-078bdf7fb113"
      },
      "execution_count": null,
      "outputs": [
        {
          "output_type": "stream",
          "name": "stdout",
          "text": [
            "python_exercises\n"
          ]
        }
      ]
    },
    {
      "cell_type": "markdown",
      "source": [
        "37. Write a python program to convert snake case string to camel case string.\n",
        "\n",
        "```\n",
        "print(snake_to_camel('python_exercises'))\n",
        "PythonExercises\n",
        "```"
      ],
      "metadata": {
        "id": "OZ2qdQXyHoJU"
      }
    },
    {
      "cell_type": "code",
      "source": [
        "def snake_to_camel(string):\n",
        "    string = string.capitalize()\n",
        "    return re.sub(\"_([a-z])\", lambda x: x.group(1).upper(), string)\n",
        "  \n",
        "print(snake_to_camel('python_exercises'))"
      ],
      "metadata": {
        "id": "2o0VpYzSH_Z6",
        "colab": {
          "base_uri": "https://localhost:8080/"
        },
        "outputId": "bbd26899-a359-430c-8bd3-1e0a2ca9308f"
      },
      "execution_count": null,
      "outputs": [
        {
          "output_type": "stream",
          "name": "stdout",
          "text": [
            "PythonExercises\n"
          ]
        }
      ]
    },
    {
      "cell_type": "markdown",
      "source": [
        "38. Write a Python program to extract values between quotation marks of a string.\n",
        "\n",
        "```\n",
        "text1 = '\"Python\", \"PHP\", \"Java\"'\n",
        "\n",
        "Sample Output:\n",
        "\n",
        "['Python', 'PHP', 'Java']\n",
        "```"
      ],
      "metadata": {
        "id": "gtqZGvXBHoHM"
      }
    },
    {
      "cell_type": "code",
      "source": [
        "text1 = '\"Python\", \"PHP\", \"Java\"'\n",
        "\n",
        "print(re.findall(\"\\\"(.*?)\\\"\", text1))"
      ],
      "metadata": {
        "id": "HDGDkktRIAHY",
        "colab": {
          "base_uri": "https://localhost:8080/"
        },
        "outputId": "7ad154c7-55ed-49bb-e5bd-58071f553c17"
      },
      "execution_count": null,
      "outputs": [
        {
          "output_type": "stream",
          "name": "stdout",
          "text": [
            "['Python', 'PHP', 'Java']\n"
          ]
        }
      ]
    },
    {
      "cell_type": "markdown",
      "source": [
        "39. Write a Python program to remove multiple spaces in a string.\n",
        "\n",
        "```\n",
        "Original string: Python     Exercises                                                                        \n",
        "Without extra spaces: Python Exercises \n",
        "```"
      ],
      "metadata": {
        "id": "B482B8ApHoFF"
      }
    },
    {
      "cell_type": "code",
      "source": [
        "string = \"Python     Exercises\"\n",
        "\n",
        "print(\"Without extra spaces:\", re.sub(\" +\", \" \", string))"
      ],
      "metadata": {
        "id": "RPjA_ySBIAxV",
        "colab": {
          "base_uri": "https://localhost:8080/"
        },
        "outputId": "6380137d-048d-45f2-f1e8-eff7e1d842d0"
      },
      "execution_count": null,
      "outputs": [
        {
          "output_type": "stream",
          "name": "stdout",
          "text": [
            "Without extra spaces: Python Exercises\n"
          ]
        }
      ]
    },
    {
      "cell_type": "markdown",
      "source": [
        "40. Write a Python program to remove all whitespaces from a string.\n",
        "\n",
        "```\n",
        "Original string: Python    Exercises                                                                            \n",
        "Without extra spaces: PythonExercises \n",
        "```"
      ],
      "metadata": {
        "id": "wIrzX2LfHoCw"
      }
    },
    {
      "cell_type": "code",
      "source": [
        "string = \"Python     Exercises\"\n",
        "\n",
        "print(\"Without extra spaces:\", re.sub(\" +\", \"\", string))"
      ],
      "metadata": {
        "id": "EsKvvyf7BQGH",
        "colab": {
          "base_uri": "https://localhost:8080/"
        },
        "outputId": "a3785443-aef6-4595-bfb4-fc36672b9094"
      },
      "execution_count": null,
      "outputs": [
        {
          "output_type": "stream",
          "name": "stdout",
          "text": [
            "Without extra spaces: PythonExercises\n"
          ]
        }
      ]
    }
  ]
}